{
 "cells": [
  {
   "cell_type": "code",
   "execution_count": 4,
   "metadata": {},
   "outputs": [],
   "source": [
    "def preorder(n):\n",
    "    if n is not None:\n",
    "        print(n.data, end=\" \")\n",
    "        preorder(n.left)\n",
    "        preorder(n.right)"
   ]
  },
  {
   "cell_type": "code",
   "execution_count": 5,
   "metadata": {},
   "outputs": [],
   "source": [
    "def inorder(n):\n",
    "    if n is not None:\n",
    "        preorder(n.left)\n",
    "        print(n.data, end=\" \")\n",
    "        preorder(n.right)"
   ]
  },
  {
   "cell_type": "code",
   "execution_count": 6,
   "metadata": {},
   "outputs": [],
   "source": [
    "def postorder(n):\n",
    "    if n is not None:\n",
    "        preorder(n.left)\n",
    "        preorder(n.right)\n",
    "        \n",
    "        print(n.data, end=\" \")"
   ]
  },
  {
   "cell_type": "code",
   "execution_count": 9,
   "metadata": {},
   "outputs": [
    {
     "name": "stdout",
     "output_type": "stream",
     "text": [
      "최근접 거리: 5.196152422706632\n"
     ]
    }
   ],
   "source": [
    "import math\n",
    "\n",
    "p = [(1, 2, 3), (4, 5, 6), (7, 8, 9), (10, 11, 12), (13, 14, 15)]\n",
    "\n",
    "def distance(p1, p2):\n",
    "    return math.sqrt((p1[0] - p2[0])**2 + (p1[1] - p2[1])**2 + (p1[2] - p2[2])**2)\n",
    "\n",
    "def closest_pair(p):\n",
    "    n = len(p)\n",
    "    mindist = float(\"inf\")\n",
    "    for i in range(n-1):\n",
    "        for j in range(i+1, n):\n",
    "            dist = distance(p[i], p[j])\n",
    "            if dist < mindist:\n",
    "                mindist = dist\n",
    "    return mindist\n",
    "\n",
    "print(\"최근접 거리:\", closest_pair(p))"
   ]
  },
  {
   "cell_type": "code",
   "execution_count": 8,
   "metadata": {},
   "outputs": [
    {
     "name": "stdout",
     "output_type": "stream",
     "text": [
      "가장 가까운 쌍: ((1, 2, 3), (4, 5, 6))\n",
      "최소 거리: 5.196152422706632\n"
     ]
    }
   ],
   "source": [
    "import math\n",
    "\n",
    "def distance(point1, point2):\n",
    "    return math.sqrt((point1[0] - point2[0])**2 + (point1[1] - point2[1])**2 + (point1[2] - point2[2])**2)\n",
    "\n",
    "def closest_pair(points):\n",
    "    min_distance = float('inf')\n",
    "    closest_pair = None\n",
    "\n",
    "    for i in range(len(points)):\n",
    "        for j in range(i+1, len(points)):\n",
    "            dist = distance(points[i], points[j])\n",
    "            if dist < min_distance:\n",
    "                min_distance = dist\n",
    "                closest_pair = (points[i], points[j])\n",
    "\n",
    "    return closest_pair, min_distance\n",
    "\n",
    "# 테스트를 위한 점들의 리스트\n",
    "points = [(1, 2, 3), (4, 5, 6), (7, 8, 9), (10, 11, 12), (13, 14, 15)]\n",
    "\n",
    "closest_pair, min_distance = closest_pair(points)\n",
    "\n",
    "print(f\"가장 가까운 쌍: {closest_pair}\")\n",
    "print(f\"최소 거리: {min_distance}\")"
   ]
  },
  {
   "cell_type": "code",
   "execution_count": 10,
   "metadata": {},
   "outputs": [],
   "source": [
    "def binary_digits(n):      # 입력 양의 정수n\n",
    "\tcount = 1              # 이진수의 최소 길이는 0\n",
    "\twhile n > 1:           # n이 1보다 크면 더 나눌 수 있음\n",
    "\t\tcount = count + 1  # count 증가\n",
    "\t\tn = n // 2         # n의 몫을 구해 다시 n에 저장(정수 나눗셈)\n",
    "\treturn count  "
   ]
  },
  {
   "cell_type": "code",
   "execution_count": 12,
   "metadata": {},
   "outputs": [
    {
     "data": {
      "text/plain": [
       "3"
      ]
     },
     "execution_count": 12,
     "metadata": {},
     "output_type": "execute_result"
    }
   ],
   "source": [
    "binary_digits(7)"
   ]
  },
  {
   "cell_type": "code",
   "execution_count": null,
   "metadata": {},
   "outputs": [],
   "source": []
  }
 ],
 "metadata": {
  "kernelspec": {
   "display_name": "python_class",
   "language": "python",
   "name": "python3"
  },
  "language_info": {
   "codemirror_mode": {
    "name": "ipython",
    "version": 3
   },
   "file_extension": ".py",
   "mimetype": "text/x-python",
   "name": "python",
   "nbconvert_exporter": "python",
   "pygments_lexer": "ipython3",
   "version": "3.10.10"
  }
 },
 "nbformat": 4,
 "nbformat_minor": 2
}

{
 "cells": [
  {
   "cell_type": "code",
   "execution_count": 7,
   "metadata": {},
   "outputs": [],
   "source": [
    "def kth_smallest_sort(A, k):\n",
    "    A.sort()\n",
    "    return A[k-1]"
   ]
  },
  {
   "cell_type": "code",
   "execution_count": 32,
   "metadata": {},
   "outputs": [],
   "source": [
    "def partition (A, left, right):\n",
    "    low = left + 1\n",
    "    high = right\n",
    "    pivot = A[left]\n",
    "    while (low <= high):\n",
    "        while low <= right and A[low] <= pivot : low += 1\n",
    "        while high >= left and A[high] > pivot : high -= 1\n",
    "\n",
    "        if low < high:\n",
    "            A[low], A[high] = A[high], A[low]\n",
    "    \n",
    "    if left != high:\n",
    "        A[left], A[high] = A[high], A[left]\n",
    "    return high"
   ]
  },
  {
   "cell_type": "code",
   "execution_count": 33,
   "metadata": {},
   "outputs": [],
   "source": [
    "def quick_select(A, left, right, k):\n",
    "    pos = partition(A, left, right)\n",
    "\n",
    "    if(pos+1 == left+k):\n",
    "        return A[pos]\n",
    "    elif (pos+1 > left+k):\n",
    "        return quick_select(A, left, pos-1, k)\n",
    "    else:\n",
    "        return quick_select(A, pos+1, right, k-(pos + 1 - left))\n",
    "    "
   ]
  },
  {
   "cell_type": "code",
   "execution_count": 36,
   "metadata": {},
   "outputs": [
    {
     "name": "stdout",
     "output_type": "stream",
     "text": [
      "파티션 : 4\n"
     ]
    }
   ],
   "source": [
    "lista= [12, 3, 5, 7, 4, 19, 26, 23, 15]\n",
    "#lista = [5, 3, 8, 4, 9, 1, 6, 2, 7]\n",
    "\n",
    "n = len(lista)\n",
    "# print(\"퀵 셀렉트 :\",quick_select(lista, 0, n-1, 3))\n",
    "\n",
    "print(\"파티션 :\",partition(lista, 0, n-1))"
   ]
  },
  {
   "cell_type": "code",
   "execution_count": null,
   "metadata": {},
   "outputs": [],
   "source": []
  },
  {
   "cell_type": "code",
   "execution_count": null,
   "metadata": {},
   "outputs": [],
   "source": []
  }
 ],
 "metadata": {
  "kernelspec": {
   "display_name": "python_class",
   "language": "python",
   "name": "python3"
  },
  "language_info": {
   "codemirror_mode": {
    "name": "ipython",
    "version": 3
   },
   "file_extension": ".py",
   "mimetype": "text/x-python",
   "name": "python",
   "nbconvert_exporter": "python",
   "pygments_lexer": "ipython3",
   "version": "3.10.10"
  }
 },
 "nbformat": 4,
 "nbformat_minor": 2
}

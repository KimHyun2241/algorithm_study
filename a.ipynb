{
 "cells": [
  {
   "cell_type": "code",
   "execution_count": 1,
   "metadata": {},
   "outputs": [],
   "source": [
    "import pandas as pd"
   ]
  },
  {
   "cell_type": "code",
   "execution_count": 2,
   "metadata": {},
   "outputs": [],
   "source": [
    "# 파일 경로\n",
    "file_path = 'C:/Users/qrstu/Downloads/문서군집/sms_spam.csv'"
   ]
  },
  {
   "cell_type": "code",
   "execution_count": 3,
   "metadata": {},
   "outputs": [],
   "source": [
    "# CSV 파일 읽기 (인코딩 문제가 있을 경우)\n",
    "try:\n",
    "    df = pd.read_csv(file_path)\n",
    "except UnicodeDecodeError:\n",
    "    # 만약 UnicodeDecodeError가 발생하면, 다른 인코딩으로 시도\n",
    "    df = pd.read_csv(file_path, encoding='ISO-8859-1')\n",
    "\n",
    "# 깨진 문자를 공백으로 대체\n",
    "df.replace(to_replace=r'[^\\x00-\\x7F]+', value=' ', regex=True, inplace=True)\n",
    "\n",
    "# 수정된 데이터를 새로운 CSV 파일로 저장\n",
    "df.to_csv('cleaned_sms_spam.csv', index=False)"
   ]
  },
  {
   "cell_type": "code",
   "execution_count": null,
   "metadata": {},
   "outputs": [],
   "source": []
  }
 ],
 "metadata": {
  "kernelspec": {
   "display_name": "language_analysis",
   "language": "python",
   "name": "python3"
  },
  "language_info": {
   "codemirror_mode": {
    "name": "ipython",
    "version": 3
   },
   "file_extension": ".py",
   "mimetype": "text/x-python",
   "name": "python",
   "nbconvert_exporter": "python",
   "pygments_lexer": "ipython3",
   "version": "3.10.10"
  }
 },
 "nbformat": 4,
 "nbformat_minor": 2
}

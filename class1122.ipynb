{
 "cells": [
  {
   "cell_type": "code",
   "execution_count": 1,
   "metadata": {},
   "outputs": [],
   "source": [
    "def min_conins_greedy(coins, V):\n",
    "    count = []\n",
    "    for i in range(len(coins)):\n",
    "        cnt = V // coins[i]\n",
    "        count.append(cnt)\n",
    "        V -= cnt * coins[i]\n",
    "    return count"
   ]
  },
  {
   "cell_type": "code",
   "execution_count": 2,
   "metadata": {},
   "outputs": [
    {
     "name": "stdout",
     "output_type": "stream",
     "text": [
      "잔돈 액수\n",
      "동전 종류 : [500, 100, 50, 10, 5, 1]\n",
      "동전 개수 = [1, 0, 1, 3, 0, 0]\n"
     ]
    }
   ],
   "source": [
    "coins = [500, 100, 50, 10, 5, 1]\n",
    "V = 580\n",
    "print(\"잔돈 액수\")\n",
    "print(\"동전 종류 :\", coins)\n",
    "print(\"동전 개수 =\", min_conins_greedy(coins, V))"
   ]
  },
  {
   "cell_type": "code",
   "execution_count": 3,
   "metadata": {},
   "outputs": [],
   "source": [
    "def knapSack_factional_greedy(obj, W):\n",
    "    obj.sort(key = lambda o: o[2]/o[1], reverse = True) # 내림차순정렬\n",
    "\n",
    "    totalValue = 0 # 전체 배낭의 가치\n",
    "    for o in obj:\n",
    "        if W <= 0: break\n",
    "        if W - o[1] >= 0:\n",
    "            W -= o[1]\n",
    "            totalValue += o[2]\n",
    "        else:\n",
    "            fraction = W / o[1]\n",
    "            totalValue += o[2] * fraction\n",
    "            W = int(W - (o[1] * fraction))\n",
    "\n",
    "    return totalValue"
   ]
  },
  {
   "cell_type": "code",
   "execution_count": 10,
   "metadata": {},
   "outputs": [
    {
     "name": "stdout",
     "output_type": "stream",
     "text": [
      "W = 18 [('A', 10, 80), ('B', 12, 120), ('C', 8, 60)]\n",
      "부분적인배낭(18) ,:  168.0"
     ]
    }
   ],
   "source": [
    "obj = [(\"A\", 10, 80), (\"B\", 12, 120), (\"C\", 8, 60)] #(물건, 무게, 가치)\n",
    "print(\"W = 18\", obj)\n",
    "print(\"부분적인배낭(18) ,: \", knapSack_factional_greedy(obj, 18), end=\"\")\n"
   ]
  },
  {
   "cell_type": "code",
   "execution_count": 18,
   "metadata": {},
   "outputs": [],
   "source": [
    "INF = 9999"
   ]
  },
  {
   "cell_type": "code",
   "execution_count": 19,
   "metadata": {},
   "outputs": [],
   "source": [
    "# 알고리즘 dist 배열에서 최소 가중치를 가진 정점을 찾는 알고리즘\n",
    "def getMinVertex(dist, selected):\n",
    "    minv = -1\n",
    "    mindist = INF\n",
    "    for v in range(len(dist)):\n",
    "        if not selected[v] and dist[v] < mindist:\n",
    "            mindist = dist[v]\n",
    "            minv = V\n",
    "    return minv\n"
   ]
  },
  {
   "cell_type": "code",
   "execution_count": 20,
   "metadata": {},
   "outputs": [],
   "source": [
    "# 알고리즘 8.5 Prim의 최소비용 신장트리 알고리즘\n",
    "def MSTPrim(vertex, adj):\n",
    "    vsize = len(vertex)\n",
    "    dist = [INF] * vsize\n",
    "    dist[0] = 0\n",
    "    selected = [False] * vsize\n",
    "\n",
    "    for i in range(vszie):\n",
    "        u = getMinVertex(dist, selected)\n",
    "        selected[u] = True\n",
    "        print(vertex[u], end=':')\n",
    "        print(dist)\n",
    "\n",
    "        for v in range(vsize):\n",
    "            if (adj[u][v] != None):\n",
    "                if selected[v] == False and adj[u][v] < dist[v]:\n",
    "                    dist[v] = adj[u][v]"
   ]
  },
  {
   "cell_type": "code",
   "execution_count": 21,
   "metadata": {},
   "outputs": [
    {
     "name": "stdout",
     "output_type": "stream",
     "text": [
      "MST By Kruskal's Algorithm\n"
     ]
    },
    {
     "ename": "NameError",
     "evalue": "name 'MSTKruskal' is not defined",
     "output_type": "error",
     "traceback": [
      "\u001b[1;31m---------------------------------------------------------------------------\u001b[0m",
      "\u001b[1;31mNameError\u001b[0m                                 Traceback (most recent call last)",
      "\u001b[1;32mc:\\python\\class2023_02\\class1122.ipynb 셀 8\u001b[0m line \u001b[0;36m1\n\u001b[0;32m      <a href='vscode-notebook-cell:/c%3A/python/class2023_02/class1122.ipynb#W5sZmlsZQ%3D%3D?line=2'>3</a>\u001b[0m weight \u001b[39m=\u001b[39m [ [ \u001b[39mNone\u001b[39;00m,  \u001b[39m29\u001b[39m,\u001b[39mNone\u001b[39;00m,\u001b[39mNone\u001b[39;00m,\u001b[39mNone\u001b[39;00m,  \u001b[39m10\u001b[39m,\u001b[39mNone\u001b[39;00m ],\n\u001b[0;32m      <a href='vscode-notebook-cell:/c%3A/python/class2023_02/class1122.ipynb#W5sZmlsZQ%3D%3D?line=3'>4</a>\u001b[0m \n\u001b[0;32m      <a href='vscode-notebook-cell:/c%3A/python/class2023_02/class1122.ipynb#W5sZmlsZQ%3D%3D?line=4'>5</a>\u001b[0m            [   \u001b[39m29\u001b[39m,\u001b[39mNone\u001b[39;00m,  \u001b[39m16\u001b[39m,\u001b[39mNone\u001b[39;00m,\u001b[39mNone\u001b[39;00m,\u001b[39mNone\u001b[39;00m,  \u001b[39m15\u001b[39m ],\n\u001b[1;32m   (...)\u001b[0m\n\u001b[0;32m     <a href='vscode-notebook-cell:/c%3A/python/class2023_02/class1122.ipynb#W5sZmlsZQ%3D%3D?line=13'>14</a>\u001b[0m \n\u001b[0;32m     <a href='vscode-notebook-cell:/c%3A/python/class2023_02/class1122.ipynb#W5sZmlsZQ%3D%3D?line=14'>15</a>\u001b[0m            [ \u001b[39mNone\u001b[39;00m,  \u001b[39m15\u001b[39m,\u001b[39mNone\u001b[39;00m,  \u001b[39m18\u001b[39m,  \u001b[39m25\u001b[39m,\u001b[39mNone\u001b[39;00m,\u001b[39mNone\u001b[39;00m ]]\n\u001b[0;32m     <a href='vscode-notebook-cell:/c%3A/python/class2023_02/class1122.ipynb#W5sZmlsZQ%3D%3D?line=16'>17</a>\u001b[0m \u001b[39mprint\u001b[39m(\u001b[39m\"\u001b[39m\u001b[39mMST By Kruskal\u001b[39m\u001b[39m'\u001b[39m\u001b[39ms Algorithm\u001b[39m\u001b[39m\"\u001b[39m)\n\u001b[1;32m---> <a href='vscode-notebook-cell:/c%3A/python/class2023_02/class1122.ipynb#W5sZmlsZQ%3D%3D?line=18'>19</a>\u001b[0m MSTKruskal(vertex, weight)\n",
      "\u001b[1;31mNameError\u001b[0m: name 'MSTKruskal' is not defined"
     ]
    }
   ],
   "source": [
    "vertex =   [  'A', 'B', 'C', 'D', 'E', 'F', 'G' ]\n",
    "\n",
    "weight = [ [ None,  29,None,None,None,  10,None ],\n",
    "\n",
    "           [   29,None,  16,None,None,None,  15 ],\n",
    "\n",
    "           [ None,  16,None,  12,None,None,None ],\n",
    "\n",
    "           [ None,None,  12,None,  22,None,  18 ],\n",
    "\n",
    "           [ None,None,None,  22,None,  27,  25 ],\n",
    "\n",
    "           [   10,None,None,None,  27,None,None ],\n",
    "\n",
    "           [ None,  15,None,  18,  25,None,None ]]\n",
    "\n",
    "print(\"MST By Kruskal's Algorithm\")\n",
    "\n",
    "MSTKruskal(vertex, weight)"
   ]
  },
  {
   "cell_type": "code",
   "execution_count": 22,
   "metadata": {},
   "outputs": [],
   "source": [
    "class disjointSets:\n",
    "    def __init__(self, n):\n",
    "        self.parent = [-1]*n    \t# 각 노드는 모두 루트 노드\n",
    "        self.set_size = n       \t# 전체 집합의 개수\t\n",
    "\n",
    "    def find(self, id) :\t\t\t# 정점 id가 속한 집합의 대표번호 탐색\n",
    "        while (self.parent[id] >= 0) :\t# 부모가 있으면(-1이 아닌 동안)\n",
    "            id = self.parent[id]\t# id를 부모 id로 갱신\n",
    "        return id\t\t\t\t# 최종 id 반환. 루트 노드의 id임\n",
    " \n",
    "    def union(self, s1, s2) :\t\t# 두 집합을 병합(s1을 s2에 병합시킴)\n",
    "        self.parent[s1] = s2\t\t# s1을 s2에 병합시킴\n",
    "        self.set_size = self.set_size-1\t# 집합의 개수가 줄어 듦\n",
    "\n",
    "def MSTKruskal(V, adj):\n",
    "    n = len(V)             \t\t\t# 정점의 개수\n",
    "    dsets = disjointSets(n)\t\t\t# disjointSets 객체 생성 및 초기화\n",
    "    E = []                 \t\t\t# 간선 리스트\n",
    "    for i in range(n-1) :       \t\t# 모든 간선을 리스트에 넣음\n",
    "        for j in range(i+1, n) :\n",
    "            if adj[i][j] != None :\n",
    "                E.append((i,j,adj[i][j]))   # 튜플로 저장\n",
    " \n",
    "    E.sort(key= lambda e : e[2])\n",
    " \n",
    "    ecount = 0                  \t\t# MST에 포함된 간선의 수\n",
    "    for i in range(len(E)):\n",
    "        e = E[i]\n",
    "        uset = dsets.find(e[0])\t\t# 두 정점이 속한 집합의 루트\n",
    "        vset = dsets.find(e[1])\n",
    " \n",
    "        if uset != vset :       \t\t# 두 루트가 다르면\n",
    "            dsets.union(uset, vset)\t# 두 집합을 합함\n",
    "            print(\"간선 추가 : (%s, %s, %d)\" % (V[e[0]], V[e[1]], e[2]))\n",
    "            ecount += 1         # 간선이 하나 추가됨\n",
    "            if ecount == n-1 :\n",
    "               break"
   ]
  },
  {
   "cell_type": "code",
   "execution_count": null,
   "metadata": {},
   "outputs": [],
   "source": []
  }
 ],
 "metadata": {
  "kernelspec": {
   "display_name": "python_class",
   "language": "python",
   "name": "python3"
  },
  "language_info": {
   "codemirror_mode": {
    "name": "ipython",
    "version": 3
   },
   "file_extension": ".py",
   "mimetype": "text/x-python",
   "name": "python",
   "nbconvert_exporter": "python",
   "pygments_lexer": "ipython3",
   "version": "3.10.10"
  }
 },
 "nbformat": 4,
 "nbformat_minor": 2
}

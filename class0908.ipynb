{
 "cells": [
  {
   "cell_type": "code",
   "execution_count": 18,
   "metadata": {},
   "outputs": [
    {
     "name": "stdout",
     "output_type": "stream",
     "text": [
      "최대 값 : 34\n"
     ]
    }
   ],
   "source": [
    "# 임의의 리스트\n",
    "list_a = [10, 5, 20, 34, 11, 5, 9, 24]\n",
    "\n",
    "# 최대 값 찾는 함수\n",
    "def find_max(list_a):\n",
    "    # 변수 초기화\n",
    "    max_num = 0\n",
    "\n",
    "    # 1. 리스트 A의 첫 번째 항목을 변수 max_num에 복사\n",
    "    max_num = list_a[0]\n",
    "\n",
    "    # 2. 리스트 A의 다음 항목들을 차례대로 max_num과 비교하여\n",
    "    #    max보다 더 크면 그 값을 max_num에 복사\n",
    "    for i in range(len(list_a)):\n",
    "\n",
    "        # max보다 더 크면 그 값을 max_num에 복사\n",
    "        if max_num < list_a[i]:\n",
    "            max_num = list_a[i]\n",
    "\n",
    "    # max_num 값을 반환\n",
    "    return max_num\n",
    "    \n",
    "print(\"최대 값 :\", find_max(list_a))"
   ]
  },
  {
   "cell_type": "code",
   "execution_count": 19,
   "metadata": {},
   "outputs": [],
   "source": [
    "# 약수를 구하는 식\n",
    "def yacksu(A):\n",
    "    list_A = []\n",
    "    for i in range(1, A+1):\n",
    "\n",
    "    # A와 나누어서 나머지가 0일 경우\n",
    "    # 약수 이므로 리스트에 추가\n",
    "        if A % i == 0:\n",
    "            list_A.append(i)\n",
    "    return list_A\n",
    "\n",
    "# 공약수를 구하는 식\n",
    "def gongyacksu(A, B):\n",
    "    common_meansure = []\n",
    "    for i in range(len(A)):\n",
    "        for j in range(len(B)):\n",
    "\n",
    "            # 두 숫자를 비교할 때 작은 수의 최대공약수보다 더 큰\n",
    "            # 약수가 존재할 경우 break를 사용하여 필요없는 작업을 줄임\n",
    "            if A[i] > B[-1] or A[-1] < B[j]:\n",
    "                break\n",
    "\n",
    "            # 공약수를 찾았을 경우 리스트에 추가하고 break\n",
    "            elif A[i] == B[j]:\n",
    "                common_meansure.append(A[i])\n",
    "                break\n",
    "    \n",
    "    return common_meansure"
   ]
  },
  {
   "cell_type": "code",
   "execution_count": 20,
   "metadata": {},
   "outputs": [
    {
     "name": "stdout",
     "output_type": "stream",
     "text": [
      "list_A : [1, 2, 3, 4, 5, 6, 10, 12, 15, 20, 30, 60]\n",
      "list_B : [1, 2, 4, 7, 14, 28]\n",
      "공약수 : [1, 2, 4]\n",
      "최대공약수 : 4\n"
     ]
    }
   ],
   "source": [
    "print(\"list_A :\", yacksu(60))\n",
    "print(\"list_B :\", yacksu(28))\n",
    "# 약수를 구하는 함수를 호출하여 얻은 리스트를\n",
    "# 공약수를 구하는 함수에 전달하여 값을 받음                                 \n",
    "print(\"공약수 :\", gongyacksu(yacksu(60), yacksu(28)))\n",
    "\n",
    "# 위와 같이 함수를 호출 하여 값을 얻는다.\n",
    "print(\"최대공약수 :\", find_max(gongyacksu(yacksu(60), yacksu(28))))"
   ]
  }
 ],
 "metadata": {
  "kernelspec": {
   "display_name": "base",
   "language": "python",
   "name": "python3"
  },
  "language_info": {
   "codemirror_mode": {
    "name": "ipython",
    "version": 3
   },
   "file_extension": ".py",
   "mimetype": "text/x-python",
   "name": "python",
   "nbconvert_exporter": "python",
   "pygments_lexer": "ipython3",
   "version": "3.10.10"
  },
  "orig_nbformat": 4
 },
 "nbformat": 4,
 "nbformat_minor": 2
}

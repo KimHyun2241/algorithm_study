{
 "cells": [
  {
   "cell_type": "code",
   "execution_count": 1,
   "metadata": {},
   "outputs": [],
   "source": [
    "def string_matching(T,P):\n",
    "    n = len(T)\n",
    "    m = len(P)\n",
    "    for i in range(n, m+1):\n",
    "        j = 0\n",
    "        while j < m and P[j]==T[i+j]:\n",
    "            j = j + 1\n",
    "        if j == m:\n",
    "            return 1\n",
    "    return -1"
   ]
  },
  {
   "cell_type": "code",
   "execution_count": 3,
   "metadata": {},
   "outputs": [],
   "source": [
    "input_text = input()\n",
    "input_pattern = input()"
   ]
  },
  {
   "cell_type": "code",
   "execution_count": 5,
   "metadata": {},
   "outputs": [
    {
     "name": "stdout",
     "output_type": "stream",
     "text": [
      "HELLO WORLD\n",
      "LO\n"
     ]
    }
   ],
   "source": [
    "print(input_text)\n",
    "print(input_pattern)"
   ]
  },
  {
   "cell_type": "code",
   "execution_count": 7,
   "metadata": {},
   "outputs": [
    {
     "ename": "IndexError",
     "evalue": "string index out of range",
     "output_type": "error",
     "traceback": [
      "\u001b[1;31m---------------------------------------------------------------------------\u001b[0m",
      "\u001b[1;31mIndexError\u001b[0m                                Traceback (most recent call last)",
      "\u001b[1;32mc:\\python\\class2023_02\\class0922.ipynb 셀 4\u001b[0m line \u001b[0;36m3\n\u001b[0;32m      <a href='vscode-notebook-cell:/c%3A/python/class2023_02/class0922.ipynb#W4sZmlsZQ%3D%3D?line=0'>1</a>\u001b[0m \u001b[39mfor\u001b[39;00m i \u001b[39min\u001b[39;00m \u001b[39mrange\u001b[39m(\u001b[39mlen\u001b[39m(input_text)\u001b[39m+\u001b[39m\u001b[39m1\u001b[39m):\n\u001b[0;32m      <a href='vscode-notebook-cell:/c%3A/python/class2023_02/class0922.ipynb#W4sZmlsZQ%3D%3D?line=1'>2</a>\u001b[0m     \u001b[39mfor\u001b[39;00m j \u001b[39min\u001b[39;00m \u001b[39mrange\u001b[39m(\u001b[39mlen\u001b[39m(input_pattern)\u001b[39m+\u001b[39m\u001b[39m1\u001b[39m):\n\u001b[1;32m----> <a href='vscode-notebook-cell:/c%3A/python/class2023_02/class0922.ipynb#W4sZmlsZQ%3D%3D?line=2'>3</a>\u001b[0m         \u001b[39mif\u001b[39;00m input_text[i] \u001b[39m!=\u001b[39m input_pattern[j]:\n\u001b[0;32m      <a href='vscode-notebook-cell:/c%3A/python/class2023_02/class0922.ipynb#W4sZmlsZQ%3D%3D?line=3'>4</a>\u001b[0m             i \u001b[39m+\u001b[39m\u001b[39m=\u001b[39m \u001b[39m1\u001b[39m\n",
      "\u001b[1;31mIndexError\u001b[0m: string index out of range"
     ]
    }
   ],
   "source": [
    "for i in range(len(input_text)+1):\n",
    "    for j in range(len(input_pattern)+1):\n",
    "        if input_text[i] != input_pattern[j]:\n",
    "            i += 1\n"
   ]
  },
  {
   "cell_type": "code",
   "execution_count": null,
   "metadata": {},
   "outputs": [],
   "source": []
  },
  {
   "cell_type": "code",
   "execution_count": 9,
   "metadata": {},
   "outputs": [],
   "source": [
    "## 입력값\n",
    "p = [(2,3), (12,30), (40,50), (5,1), (12,10), (3,4)]"
   ]
  },
  {
   "cell_type": "code",
   "execution_count": 12,
   "metadata": {},
   "outputs": [],
   "source": [
    "def closest_pair(p):\n",
    "    n = len(p)\n",
    "    mindist = float(\"inf\")\n",
    "    for i in range(n-1):\n",
    "        for j in range(i+1, n):\n",
    "            dist = distance(p[i], p[j])\n",
    "            if dist < mindist:\n",
    "                mindist = dist\n",
    "    return mindist"
   ]
  },
  {
   "cell_type": "code",
   "execution_count": 14,
   "metadata": {},
   "outputs": [
    {
     "data": {
      "text/plain": [
       "20"
      ]
     },
     "execution_count": 14,
     "metadata": {},
     "output_type": "execute_result"
    }
   ],
   "source": [
    "abs(10 - 30)"
   ]
  },
  {
   "cell_type": "code",
   "execution_count": 13,
   "metadata": {},
   "outputs": [
    {
     "ename": "TypeError",
     "evalue": "'int' object is not callable",
     "output_type": "error",
     "traceback": [
      "\u001b[1;31m---------------------------------------------------------------------------\u001b[0m",
      "\u001b[1;31mTypeError\u001b[0m                                 Traceback (most recent call last)",
      "\u001b[1;32mc:\\python\\class2023_02\\class0922.ipynb 셀 8\u001b[0m line \u001b[0;36m1\n\u001b[1;32m----> <a href='vscode-notebook-cell:/c%3A/python/class2023_02/class0922.ipynb#X11sZmlsZQ%3D%3D?line=0'>1</a>\u001b[0m closest_pair(p)\n",
      "\u001b[1;32mc:\\python\\class2023_02\\class0922.ipynb 셀 8\u001b[0m line \u001b[0;36m7\n\u001b[0;32m      <a href='vscode-notebook-cell:/c%3A/python/class2023_02/class0922.ipynb#X11sZmlsZQ%3D%3D?line=4'>5</a>\u001b[0m \u001b[39mfor\u001b[39;00m i \u001b[39min\u001b[39;00m \u001b[39mrange\u001b[39m(n\u001b[39m-\u001b[39m\u001b[39m1\u001b[39m):\n\u001b[0;32m      <a href='vscode-notebook-cell:/c%3A/python/class2023_02/class0922.ipynb#X11sZmlsZQ%3D%3D?line=5'>6</a>\u001b[0m     \u001b[39mfor\u001b[39;00m j \u001b[39min\u001b[39;00m \u001b[39mrange\u001b[39m(i\u001b[39m+\u001b[39m\u001b[39m1\u001b[39m, n):\n\u001b[1;32m----> <a href='vscode-notebook-cell:/c%3A/python/class2023_02/class0922.ipynb#X11sZmlsZQ%3D%3D?line=6'>7</a>\u001b[0m         dist \u001b[39m=\u001b[39m distance(p[i], p[j])\n\u001b[0;32m      <a href='vscode-notebook-cell:/c%3A/python/class2023_02/class0922.ipynb#X11sZmlsZQ%3D%3D?line=7'>8</a>\u001b[0m         \u001b[39mif\u001b[39;00m dist \u001b[39m<\u001b[39m mindist:\n\u001b[0;32m      <a href='vscode-notebook-cell:/c%3A/python/class2023_02/class0922.ipynb#X11sZmlsZQ%3D%3D?line=8'>9</a>\u001b[0m             mindist \u001b[39m=\u001b[39m dist\n",
      "\u001b[1;31mTypeError\u001b[0m: 'int' object is not callable"
     ]
    }
   ],
   "source": [
    "closest_pair(p)"
   ]
  },
  {
   "cell_type": "code",
   "execution_count": null,
   "metadata": {},
   "outputs": [],
   "source": []
  }
 ],
 "metadata": {
  "kernelspec": {
   "display_name": "python_class",
   "language": "python",
   "name": "python3"
  },
  "language_info": {
   "codemirror_mode": {
    "name": "ipython",
    "version": 3
   },
   "file_extension": ".py",
   "mimetype": "text/x-python",
   "name": "python",
   "nbconvert_exporter": "python",
   "pygments_lexer": "ipython3",
   "version": "3.10.10"
  },
  "orig_nbformat": 4
 },
 "nbformat": 4,
 "nbformat_minor": 2
}

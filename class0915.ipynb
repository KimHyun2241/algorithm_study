{
 "cells": [
  {
   "cell_type": "code",
   "execution_count": 21,
   "metadata": {},
   "outputs": [],
   "source": [
    "# 23p ,30p"
   ]
  },
  {
   "cell_type": "code",
   "execution_count": 70,
   "metadata": {},
   "outputs": [
    {
     "name": "stdout",
     "output_type": "stream",
     "text": [
      "비트 수 : 4\n"
     ]
    }
   ],
   "source": [
    "def binary_digits_A(n):\n",
    "\n",
    "    # 비트 수 저장\n",
    "    count = 1\n",
    "\n",
    "    # 비트 수를 구하는 수가 1보다 클 때\n",
    "    while n > 1:\n",
    "\n",
    "        # 비트 수 증가\n",
    "        count = count + 1\n",
    "\n",
    "        # n을 2로 나눈 몫을 정수로 반환\n",
    "        n = n // 2\n",
    "    \n",
    "    print(\"비트 수 :\", count)\n",
    "\n",
    "# 함수 호출\n",
    "binary_digits_A(13)"
   ]
  },
  {
   "cell_type": "code",
   "execution_count": 71,
   "metadata": {},
   "outputs": [
    {
     "name": "stdout",
     "output_type": "stream",
     "text": [
      "비트 수 : 4\n"
     ]
    }
   ],
   "source": [
    "def binary_digits_B(n):\n",
    "\n",
    "    # 입력된 수가 1과 같거나 작을 경우 1 반환\n",
    "    if n <= 1:\n",
    "        return 1\n",
    "    \n",
    "    # 1보다 클 경우 \n",
    "    else:\n",
    "        return 1 + binary_digits_B(n//2)\n",
    "    \n",
    "print(\"비트 수 :\", binary_digits_B(13))"
   ]
  },
  {
   "cell_type": "code",
   "execution_count": 64,
   "metadata": {},
   "outputs": [
    {
     "data": {
      "text/plain": [
       "4"
      ]
     },
     "execution_count": 64,
     "metadata": {},
     "output_type": "execute_result"
    }
   ],
   "source": [
    "def binary_digits_A(n):\n",
    "    count = 1\n",
    "    while n > 1:\n",
    "        count = count + 1\n",
    "        n = n // 2\n",
    "    return count\n",
    "\n",
    "binary_digits_A(13)"
   ]
  },
  {
   "cell_type": "code",
   "execution_count": 66,
   "metadata": {},
   "outputs": [
    {
     "data": {
      "text/plain": [
       "4"
      ]
     },
     "execution_count": 66,
     "metadata": {},
     "output_type": "execute_result"
    }
   ],
   "source": [
    "def binary_digits_B(n):\n",
    "    if n <= 1:\n",
    "        return 1\n",
    "    else :\n",
    "        return 1 + binary_digits_B(n // 2)\n",
    "\n",
    "binary_digits_B(13)"
   ]
  },
  {
   "cell_type": "code",
   "execution_count": null,
   "metadata": {},
   "outputs": [],
   "source": []
  }
 ],
 "metadata": {
  "kernelspec": {
   "display_name": "python_class",
   "language": "python",
   "name": "python3"
  },
  "language_info": {
   "codemirror_mode": {
    "name": "ipython",
    "version": 3
   },
   "file_extension": ".py",
   "mimetype": "text/x-python",
   "name": "python",
   "nbconvert_exporter": "python",
   "pygments_lexer": "ipython3",
   "version": "3.10.10"
  },
  "orig_nbformat": 4
 },
 "nbformat": 4,
 "nbformat_minor": 2
}

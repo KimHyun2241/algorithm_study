{
 "cells": [
  {
   "cell_type": "code",
   "execution_count": 9,
   "metadata": {},
   "outputs": [],
   "source": [
    "# 순열 생성 알고리즘(백트래킹)\n",
    "def all_permutations(data):\n",
    "    bUsed = [False] * len(data)\n",
    "    DFS_permutation(data, [], 0, bUsed)\n",
    "\n",
    "def DFS_permutation(data, sol, level, bUsed):\n",
    "    if level == len(data):\n",
    "        print(sol)\n",
    "        return\n",
    "        \n",
    "    for i in range(len(data)):\n",
    "        if not bUsed[i]:\n",
    "            sol.append(data[i])\n",
    "            bUsed[i] = True\n",
    "            DFS_permutation(data, sol, level+1, bUsed)\n",
    "            sol.pop()\n",
    "            bUsed[i] = False"
   ]
  },
  {
   "cell_type": "code",
   "execution_count": 10,
   "metadata": {},
   "outputs": [
    {
     "name": "stdout",
     "output_type": "stream",
     "text": [
      "['A', 'B', 'C']\n",
      "['A', 'C', 'B']\n",
      "['B', 'A', 'C']\n",
      "['B', 'C', 'A']\n",
      "['C', 'A', 'B']\n",
      "['C', 'B', 'A']\n"
     ]
    }
   ],
   "source": [
    "all_permutations(['A', 'B', 'C'])"
   ]
  },
  {
   "cell_type": "code",
   "execution_count": 18,
   "metadata": {},
   "outputs": [],
   "source": [
    "# 합이 M인 모든 부분집합 찾기(백트래킹)\n",
    "def all_sum_of_subsets(S, M):\n",
    "    DFS_sum_of_subsets(S,M,0, [], sum(S))\n",
    "\n",
    "def DFS_sum_of_subsets(S, M, level, sol, remaining):\n",
    "    if sum(sol) == M:\n",
    "        print(sol)\n",
    "        return\n",
    "    elif sum(sol) > M or (remaining + sum(sol)) < M:\n",
    "        return\n",
    "\n",
    "    for i in range(level, len(S)):\n",
    "        sol.append(S[i])\n",
    "        DFS_sum_of_subsets(S, M, i+1, sol, remaining-S[i])\n",
    "        sol.pop()"
   ]
  },
  {
   "cell_type": "code",
   "execution_count": 19,
   "metadata": {},
   "outputs": [
    {
     "name": "stdout",
     "output_type": "stream",
     "text": [
      "입력 집합 : [3, 34, 4, 12, 5, 2] \n",
      " M = 9\n",
      "[3, 4, 2]\n",
      "[4, 5]\n"
     ]
    }
   ],
   "source": [
    "nums = [3, 34, 4, 12, 5, 2]\n",
    "M = 9\n",
    "print(\"입력 집합 :\", nums, \"\\n\" ,\"M =\", M)\n",
    "solution = all_sum_of_subsets(nums, M)"
   ]
  },
  {
   "cell_type": "code",
   "execution_count": null,
   "metadata": {},
   "outputs": [],
   "source": []
  }
 ],
 "metadata": {
  "kernelspec": {
   "display_name": "python_class",
   "language": "python",
   "name": "python3"
  },
  "language_info": {
   "codemirror_mode": {
    "name": "ipython",
    "version": 3
   },
   "file_extension": ".py",
   "mimetype": "text/x-python",
   "name": "python",
   "nbconvert_exporter": "python",
   "pygments_lexer": "ipython3",
   "version": "3.10.10"
  }
 },
 "nbformat": 4,
 "nbformat_minor": 2
}

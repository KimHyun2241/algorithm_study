{
 "cells": [
  {
   "cell_type": "code",
   "execution_count": 9,
   "metadata": {},
   "outputs": [],
   "source": [
    "# 순열 생성 알고리즘(백트래킹)\n",
    "def all_permutations(data):\n",
    "    bUsed = [False] * len(data)\n",
    "    DFS_permutation(data, [], 0, bUsed)\n",
    "\n",
    "def DFS_permutation(data, sol, level, bUsed):\n",
    "    if level == len(data):\n",
    "        print(sol)\n",
    "        return\n",
    "        \n",
    "    for i in range(len(data)):\n",
    "        if not bUsed[i]:\n",
    "            sol.append(data[i])\n",
    "            bUsed[i] = True\n",
    "            DFS_permutation(data, sol, level+1, bUsed)\n",
    "            sol.pop()\n",
    "            bUsed[i] = False"
   ]
  },
  {
   "cell_type": "code",
   "execution_count": 10,
   "metadata": {},
   "outputs": [
    {
     "name": "stdout",
     "output_type": "stream",
     "text": [
      "['A', 'B', 'C']\n",
      "['A', 'C', 'B']\n",
      "['B', 'A', 'C']\n",
      "['B', 'C', 'A']\n",
      "['C', 'A', 'B']\n",
      "['C', 'B', 'A']\n"
     ]
    }
   ],
   "source": [
    "all_permutations(['A', 'B', 'C'])"
   ]
  },
  {
   "cell_type": "code",
   "execution_count": 18,
   "metadata": {},
   "outputs": [],
   "source": [
    "# 합이 M인 모든 부분집합 찾기(백트래킹)\n",
    "def all_sum_of_subsets(S, M):\n",
    "    DFS_sum_of_subsets(S,M,0, [], sum(S))\n",
    "\n",
    "def DFS_sum_of_subsets(S, M, level, sol, remaining):\n",
    "    if sum(sol) == M:\n",
    "        print(sol)\n",
    "        return\n",
    "    elif sum(sol) > M or (remaining + sum(sol)) < M:\n",
    "        return\n",
    "\n",
    "    for i in range(level, len(S)):\n",
    "        sol.append(S[i])\n",
    "        DFS_sum_of_subsets(S, M, i+1, sol, remaining-S[i])\n",
    "        sol.pop()"
   ]
  },
  {
   "cell_type": "code",
   "execution_count": 19,
   "metadata": {},
   "outputs": [
    {
     "name": "stdout",
     "output_type": "stream",
     "text": [
      "입력 집합 : [3, 34, 4, 12, 5, 2] \n",
      " M = 9\n",
      "[3, 4, 2]\n",
      "[4, 5]\n"
     ]
    }
   ],
   "source": [
    "nums = [3, 34, 4, 12, 5, 2]\n",
    "M = 9\n",
    "print(\"입력 집합 :\", nums, \"\\n\" ,\"M =\", M)\n",
    "solution = all_sum_of_subsets(nums, M)"
   ]
  },
  {
   "cell_type": "code",
   "execution_count": 51,
   "metadata": {},
   "outputs": [],
   "source": [
    "# 미로탐색에서 위치의 유효성 검사\n",
    "def isSafe(maze, x, y, mark):\n",
    "    W, H = len(maze[0]), len(maze)\n",
    "    if x >= 0 and x < W and y >= 0 and y < H:\n",
    "        if maze[y][x] != 0 and mark[y][x] == 0:\n",
    "            return True\n",
    "    return False"
   ]
  },
  {
   "cell_type": "code",
   "execution_count": 52,
   "metadata": {},
   "outputs": [],
   "source": [
    "# 백트래킹을 이용한 미로탐색\n",
    "def solve_maze(maze, x, y):\n",
    "    W, H = len(maze[0]), len(maze)\n",
    "    sol = [[0 for j in range(W)] for i in range(H)]\n",
    "    mark = [[0 for j in range(W)] for i in range(H)]\n",
    "\n",
    "    if DFS_maze(maze, x, y, sol, mark) == False:\n",
    "        print(\"출구를 찾을 수 없음\")\n",
    "    else:\n",
    "        for i in sol: print(i)\n",
    "\n",
    "def DFS_maze(maze, x, y, sol, mark):\n",
    "    W, H = len(maze[0]), len(maze)\n",
    "\n",
    "    if not isSafe(maze, x, y, mark):\n",
    "        return False\n",
    "    \n",
    "    mark[y][x] = 1\n",
    "    sol[y][x] =1\n",
    "    if maze[y][x] == 2:\n",
    "        return True\n",
    "    \n",
    "    if DFS_maze(maze, x+1, y, sol, mark) == True : return True\n",
    "    if DFS_maze(maze, x, y+1, sol, mark) == True : return True\n",
    "    if DFS_maze(maze, x-1, y, sol, mark) == True : return True\n",
    "    if DFS_maze(maze, x, y-1, sol, mark) == True : return True\n",
    "\n",
    "    sol[y][x] = 0\n",
    "    return False"
   ]
  },
  {
   "cell_type": "code",
   "execution_count": 53,
   "metadata": {},
   "outputs": [
    {
     "name": "stdout",
     "output_type": "stream",
     "text": [
      "출구를 찾을 수 없음\n"
     ]
    }
   ],
   "source": [
    "maze = [ [0, 0, 0, 1, 0, 0, 0, 0, 0, 0, 0], \n",
    "         [0, 1, 0, 1, 0, 0, 0, 1, 1, 1, 0],\n",
    "         [0, 1, 1, 1, 1, 1, 0, 1, 0, 1, 0],\n",
    "         [0, 1, 0, 0, 0, 1, 0, 1, 0, 1, 0],\n",
    "         [0, 1, 0, 1, 0, 1, 0, 1, 0, 1, 2],\n",
    "         [0, 1, 0, 1, 1, 1, 1, 1, 0, 1, 0],\n",
    "         [0, 1, 0, 0, 0, 1, 0, 0, 0, 1, 0],\n",
    "         [0, 1, 1, 1, 0, 1, 1, 1, 0, 1, 0],\n",
    "         [0, 0, 0, 0, 0, 0, 0, 0, 0, 0, 0]]\n",
    "solve_maze(maze, 0, 3)"
   ]
  },
  {
   "cell_type": "code",
   "execution_count": 41,
   "metadata": {},
   "outputs": [],
   "source": [
    "# 위치의 유효성 검사\n",
    "def Q_isSafe(board, x, y):\n",
    "    N = len(board)\n",
    "\n",
    "    for i in range(y):\n",
    "        if board[i][x] == 1: return False\n",
    "    for i, j in zip(range(y-1, -1, -1), range(x-1, -1, -1)):\n",
    "        if board[i][j] == 1: return False\n",
    "    for i, j in zip(range(y-1, -1 -1), range(x+1, N)):\n",
    "        if board[i][j] == 1: return False\n",
    "    return True"
   ]
  },
  {
   "cell_type": "code",
   "execution_count": 42,
   "metadata": {},
   "outputs": [],
   "source": [
    "# N-Queen\n",
    "def solve_N_Queen(board, y):\n",
    "    N = len(board)\n",
    "    if y == N:\n",
    "        print(\"board :\", board)\n",
    "        return\n",
    "    \n",
    "    for x in range(N):\n",
    "        if Q_isSafe(board, x, y):\n",
    "            board[y][x] = 1\n",
    "            solve_N_Queen(board, y+1)\n",
    "            board[y][x] = 0"
   ]
  },
  {
   "cell_type": "code",
   "execution_count": 43,
   "metadata": {},
   "outputs": [
    {
     "name": "stdout",
     "output_type": "stream",
     "text": [
      "board : [[0, 1, 0, 0], [0, 0, 0, 1], [1, 0, 0, 0], [0, 0, 1, 0]]\n",
      "board : [[0, 1, 0, 0], [0, 0, 0, 1], [0, 0, 1, 0], [1, 0, 0, 0]]\n",
      "board : [[0, 0, 1, 0], [1, 0, 0, 0], [0, 0, 0, 1], [0, 1, 0, 0]]\n",
      "board : [[0, 0, 1, 0], [0, 1, 0, 0], [0, 0, 0, 1], [1, 0, 0, 0]]\n",
      "board : [[0, 0, 0, 1], [1, 0, 0, 0], [0, 0, 1, 0], [0, 1, 0, 0]]\n",
      "board : [[0, 0, 0, 1], [0, 1, 0, 0], [1, 0, 0, 0], [0, 0, 1, 0]]\n",
      "board : [[0, 0, 0, 1], [0, 0, 1, 0], [0, 1, 0, 0], [1, 0, 0, 0]]\n"
     ]
    }
   ],
   "source": [
    "N = 4\n",
    "board = [[0 for i in range(N)] for j in range(N)]\n",
    "solve_N_Queen(board, 0)"
   ]
  },
  {
   "cell_type": "code",
   "execution_count": 2,
   "metadata": {},
   "outputs": [],
   "source": [
    "# 그래프 색칠 문제의 유효성 검사\n",
    "def graph_isSafe(g, v, c, color):           \n",
    "    for i in range(len(g)):                 # 그래프의 모든 정점 i에 대해\n",
    "        if g[v][i] == 1 and color[i] == c:  # 인접 and 색이 같으면\n",
    "            return False                    # 칠할 수 없는 색\n",
    "    return True                             # 색이 같은 인접정점이 없으면 True"
   ]
  },
  {
   "cell_type": "code",
   "execution_count": 10,
   "metadata": {},
   "outputs": [],
   "source": [
    "# 그래프 색칠\n",
    "def DFS_graph_coloring(graph, k, v, color):\n",
    "    if v == len(graph):                       # 색칠 성공\n",
    "        return True\n",
    "    \n",
    "    for c in range(1, k+1):                   # 모든 색상에 대해 (1 부터 k+1)\n",
    "        if graph_isSafe(graph, v, c, color):  # v를 c로 색칠할 수 있으면 (true or false 반환됨)\n",
    "            color[v] = c                      # true일 경우\n",
    "            if DFS_graph_coloring(graph, k ,v+1, color):\n",
    "                return True\n",
    "            color[v] = 0\n",
    "    \n",
    "    return False                              # 정점 색칠 실패\n",
    "\n",
    "def graphColoring(graph, k, states):\n",
    "        color = [0] * len(graph)              # 정점의 색 배경 리스트: 초기값 = 0\n",
    "        ret = DFS_graph_coloring(graph, k , 0, color)  # 0번 정점부터 처리\n",
    "        if ret:\n",
    "            for i in range(len(graph)):\n",
    "                print(\"%3s = \"%states[i], color_name[color[i]])\n",
    "        else:\n",
    "            print(\"그래프를 색칠할 수 없음\")"
   ]
  },
  {
   "cell_type": "code",
   "execution_count": 11,
   "metadata": {},
   "outputs": [
    {
     "name": "stdout",
     "output_type": "stream",
     "text": [
      "색상 3개:\n",
      " NT =  빨강\n",
      " WA =  초록\n",
      "  Q =  초록\n",
      " SA =  파랑\n",
      "NSW =  빨강\n",
      "  V =  초록\n",
      "----------------------\n",
      "색상 2개:\n",
      "그래프를 색칠할 수 없음\n"
     ]
    }
   ],
   "source": [
    "states = ['NT', 'WA', 'Q', 'SA', 'NSW', 'V']\n",
    "\n",
    "color_name = [\"none\", \"빨강\", \"초록\", \"파랑\", \"노랑\", \"보라\"]\n",
    "\n",
    "g = [ [0, 1, 1, 1, 0, 0],\n",
    "      [1, 0, 0, 1, 0, 0],\n",
    "      [1, 0, 0, 1, 1, 0],\n",
    "      [1, 1, 1, 0, 1, 1],\n",
    "      [0, 0, 1, 1, 0, 1],\n",
    "      [0, 0, 0, 1, 1, 0],]\n",
    "\n",
    "print(\"색상 3개:\")\n",
    "graphColoring(g, 3, states)\n",
    "print(\"----------------------\")\n",
    "print(\"색상 2개:\")\n",
    "graphColoring(g, 2, states)"
   ]
  },
  {
   "cell_type": "code",
   "execution_count": null,
   "metadata": {},
   "outputs": [],
   "source": []
  }
 ],
 "metadata": {
  "kernelspec": {
   "display_name": "python_class",
   "language": "python",
   "name": "python3"
  },
  "language_info": {
   "codemirror_mode": {
    "name": "ipython",
    "version": 3
   },
   "file_extension": ".py",
   "mimetype": "text/x-python",
   "name": "python",
   "nbconvert_exporter": "python",
   "pygments_lexer": "ipython3",
   "version": "3.10.10"
  }
 },
 "nbformat": 4,
 "nbformat_minor": 2
}

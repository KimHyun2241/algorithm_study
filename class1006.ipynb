{
 "cells": [
  {
   "cell_type": "code",
   "execution_count": 8,
   "metadata": {},
   "outputs": [],
   "source": [
    "def slow_power(x, n):\n",
    "    result = 1.0\n",
    "    for i in range(n):\n",
    "        result = result * x\n",
    "    return result\n",
    "\n",
    "def power(x, n):\n",
    "    if n == 0:\n",
    "        return 1\n",
    "    elif (n % 2) == 0:\n",
    "        return power(x*x, n//2)\n",
    "    else:\n",
    "        return x * power(x*x, (n-1)//2)"
   ]
  },
  {
   "cell_type": "code",
   "execution_count": 9,
   "metadata": {},
   "outputs": [],
   "source": [
    "import time"
   ]
  },
  {
   "cell_type": "code",
   "execution_count": 13,
   "metadata": {},
   "outputs": [
    {
     "name": "stdout",
     "output_type": "stream",
     "text": [
      "    억지기법 (2**500) = 3.273390607896142e+150\n",
      "축소정복기법 (2**500) = 3.273390607896142e+150\n",
      "    억지기법 시간... 2.13460111618042\n",
      "축소정복기법 시간... 0.2669954299926758\n"
     ]
    }
   ],
   "source": [
    "print(\"    억지기법 (2**500) =\",power(2.0, 500))\n",
    "print(\"축소정복기법 (2**500) =\",slow_power(2.0, 500))\n",
    "\n",
    "t1 = time.time()\n",
    "for i in range(100000) : power(2.0, 500)\n",
    "t2 = time.time()\n",
    "for i in range(100000) : slow_power(2.0, 500)\n",
    "t3 = time.time()\n",
    "   \n",
    "print(\"    억지기법 시간...\", t3 - t2)\n",
    "print(\"축소정복기법 시간...\", t2-t1)"
   ]
  },
  {
   "cell_type": "code",
   "execution_count": 15,
   "metadata": {},
   "outputs": [
    {
     "name": "stdout",
     "output_type": "stream",
     "text": [
      "[[64  0]\n",
      " [ 0 64]]\n"
     ]
    }
   ],
   "source": [
    "# 행렬의 거듭제곱 문제\n",
    "# 동일한 적용이 가능\n",
    "\n",
    "import numpy as np\n",
    "\n",
    "def powerMat(x, n):\n",
    "    # 종료 조건\n",
    "    if n == 1:\n",
    "        return x\n",
    "    \n",
    "    # n이 짝수\n",
    "    elif (n % 2) == 0:\n",
    "        return powerMat(np.matmul(x, x), n // 2)\n",
    "    \n",
    "    # n이 홀수\n",
    "    else:\n",
    "        return np.matmul(x, powerMat(np.matmul(x, x), (n - 1) // 2))\n",
    "    \n",
    "a = np.array([[2, 0], [0, 2]])\n",
    "\n",
    "print(powerMat(a, 6))"
   ]
  },
  {
   "cell_type": "code",
   "execution_count": 3,
   "metadata": {},
   "outputs": [],
   "source": [
    "import math\n",
    "\n",
    "def closest_pair(p):\n",
    "\tn = len(p)\n",
    "\tmindist = float(\"inf\")\n",
    "\tfor i in range(n-1):\n",
    "\t\tfor j in range(i+1, n):\n",
    "\t\t\tdist = distance(p[i], p[j])\n",
    "\t\t\tif dist < mindist:\n",
    "\t\t\t\tmindist = dist\n",
    "\treturn mindist"
   ]
  },
  {
   "cell_type": "code",
   "execution_count": 4,
   "metadata": {},
   "outputs": [
    {
     "ename": "NameError",
     "evalue": "name 'distance' is not defined",
     "output_type": "error",
     "traceback": [
      "\u001b[1;31m---------------------------------------------------------------------------\u001b[0m",
      "\u001b[1;31mNameError\u001b[0m                                 Traceback (most recent call last)",
      "\u001b[1;32mc:\\python\\class2023_02\\class1006.ipynb 셀 6\u001b[0m line \u001b[0;36m2\n\u001b[0;32m      <a href='vscode-notebook-cell:/c%3A/python/class2023_02/class1006.ipynb#W5sZmlsZQ%3D%3D?line=0'>1</a>\u001b[0m p \u001b[39m=\u001b[39m [(\u001b[39m2\u001b[39m, \u001b[39m3\u001b[39m), (\u001b[39m12\u001b[39m, \u001b[39m30\u001b[39m), (\u001b[39m40\u001b[39m, \u001b[39m50\u001b[39m), (\u001b[39m5\u001b[39m, \u001b[39m1\u001b[39m), (\u001b[39m12\u001b[39m, \u001b[39m10\u001b[39m), (\u001b[39m3\u001b[39m, \u001b[39m4\u001b[39m)]\n\u001b[1;32m----> <a href='vscode-notebook-cell:/c%3A/python/class2023_02/class1006.ipynb#W5sZmlsZQ%3D%3D?line=1'>2</a>\u001b[0m closest_pair(p)\n",
      "\u001b[1;32mc:\\python\\class2023_02\\class1006.ipynb 셀 6\u001b[0m line \u001b[0;36m8\n\u001b[0;32m      <a href='vscode-notebook-cell:/c%3A/python/class2023_02/class1006.ipynb#W5sZmlsZQ%3D%3D?line=5'>6</a>\u001b[0m \u001b[39mfor\u001b[39;00m i \u001b[39min\u001b[39;00m \u001b[39mrange\u001b[39m(n\u001b[39m-\u001b[39m\u001b[39m1\u001b[39m):\n\u001b[0;32m      <a href='vscode-notebook-cell:/c%3A/python/class2023_02/class1006.ipynb#W5sZmlsZQ%3D%3D?line=6'>7</a>\u001b[0m \t\u001b[39mfor\u001b[39;00m j \u001b[39min\u001b[39;00m \u001b[39mrange\u001b[39m(i\u001b[39m+\u001b[39m\u001b[39m1\u001b[39m, n):\n\u001b[1;32m----> <a href='vscode-notebook-cell:/c%3A/python/class2023_02/class1006.ipynb#W5sZmlsZQ%3D%3D?line=7'>8</a>\u001b[0m \t\tdist \u001b[39m=\u001b[39m distance(p[i], p[j])\n\u001b[0;32m      <a href='vscode-notebook-cell:/c%3A/python/class2023_02/class1006.ipynb#W5sZmlsZQ%3D%3D?line=8'>9</a>\u001b[0m \t\t\u001b[39mif\u001b[39;00m dist \u001b[39m<\u001b[39m mindist:\n\u001b[0;32m     <a href='vscode-notebook-cell:/c%3A/python/class2023_02/class1006.ipynb#W5sZmlsZQ%3D%3D?line=9'>10</a>\u001b[0m \t\t\tmindist \u001b[39m=\u001b[39m dist\n",
      "\u001b[1;31mNameError\u001b[0m: name 'distance' is not defined"
     ]
    }
   ],
   "source": [
    "p = [(2, 3), (12, 30), (40, 50), (5, 1), (12, 10), (3, 4)]\n",
    "closest_pair(p)\n"
   ]
  },
  {
   "cell_type": "code",
   "execution_count": 3,
   "metadata": {},
   "outputs": [
    {
     "name": "stdout",
     "output_type": "stream",
     "text": [
      "topological_sort :\n",
      "B E A C D F \n"
     ]
    }
   ],
   "source": [
    "# 위상 정렬(축소 정복 기법)\n",
    "def topological_sort(graph):\n",
    "    inDeg = {}\n",
    "    for v in graph:\n",
    "        inDeg[v] = 0\n",
    "    for v in graph:\n",
    "        for u in graph[v]:\n",
    "            inDeg[u] += 1\n",
    "\n",
    "    vlist = []\n",
    "    for v in graph:\n",
    "        if inDeg[v] == 0:\n",
    "            vlist.append(v)\n",
    "    \n",
    "    while vlist:\n",
    "        v = vlist.pop()\n",
    "        print(v, end=' ')\n",
    "\n",
    "        for u in graph[v]:\n",
    "            inDeg[u] -= 1\n",
    "            if inDeg[u] == 0:\n",
    "                vlist.append(u)\n",
    "\n",
    "mygraph = {\"A\" : {\"C\", \"D\"},\n",
    "           \"B\" : {\"D\", \"E\"},\n",
    "           \"C\" : {\"D\", \"F\"},\n",
    "           \"D\" : {\"F\"},\n",
    "           \"E\" : {\"F\"},\n",
    "           \"F\" : {}}\n",
    "\n",
    "print('topological_sort :')\n",
    "topological_sort(mygraph)\n",
    "print()\n",
    "A C B D E F"
   ]
  },
  {
   "cell_type": "code",
   "execution_count": 7,
   "metadata": {},
   "outputs": [],
   "source": [
    "# 이진탐색 순환구조\n",
    "def binary_search(A, key, low, high):\n",
    "    if (low <= high):\n",
    "        mid = (low + high) // 2\n",
    "        if key == A[mid]:\n",
    "            return mid\n",
    "        elif key < A[mid]:\n",
    "            return binary_search(A, key, low, mid-1)\n",
    "        else:\n",
    "            return binary_search(A, key, mid+1, high)\n",
    "    return -1"
   ]
  },
  {
   "cell_type": "code",
   "execution_count": 8,
   "metadata": {},
   "outputs": [],
   "source": [
    "# 이진탐색 반복구조\n",
    "def binary_search_iter(A, key, low, high):\n",
    "    while (low <= high):\n",
    "        mid = (low + high) // 2\n",
    "        if key == A[mid]:\n",
    "            return mid\n",
    "        elif key > A[mid]:\n",
    "            low = mid + 1\n",
    "        else:\n",
    "            high = mid -1\n",
    "    return -1"
   ]
  },
  {
   "cell_type": "code",
   "execution_count": 10,
   "metadata": {},
   "outputs": [
    {
     "name": "stdout",
     "output_type": "stream",
     "text": [
      "listA [1, 3, 8, 13, 13, 16, 21, 26, 27, 30, 33, 36, 39, 41, 44, 49]\n",
      "16\n",
      "탐색(순환) : 10\n",
      "탐색(반복) : 10\n",
      "탐색(순환) : -1\n",
      "탐색(반복) : -1\n"
     ]
    }
   ],
   "source": [
    "listA = [1, 3, 8, 13, 13, 16, 21, 26, 27, 30, 33, 36, 39, 41, 44, 49]\n",
    "print(\"listA\", listA)\n",
    "print(len(listA))\n",
    "print(\"탐색(순환) :\", binary_search(listA, 33, 0, len(listA)-1))\n",
    "print(\"탐색(반복) :\", binary_search_iter(listA, 33, 0, len(listA)-1))\n",
    "print(\"탐색(순환) :\", binary_search(listA, 32, 0, len(listA)-1))\n",
    "print(\"탐색(반복) :\", binary_search_iter(listA, 32, 0, len(listA)-1))"
   ]
  },
  {
   "cell_type": "code",
   "execution_count": 11,
   "metadata": {},
   "outputs": [
    {
     "data": {
      "text/plain": [
       "12"
      ]
     },
     "execution_count": 11,
     "metadata": {},
     "output_type": "execute_result"
    }
   ],
   "source": [
    "25//2"
   ]
  },
  {
   "cell_type": "code",
   "execution_count": 12,
   "metadata": {},
   "outputs": [
    {
     "data": {
      "text/plain": [
       "23"
      ]
     },
     "execution_count": 12,
     "metadata": {},
     "output_type": "execute_result"
    }
   ],
   "source": [
    "47//2"
   ]
  },
  {
   "cell_type": "code",
   "execution_count": null,
   "metadata": {},
   "outputs": [],
   "source": []
  }
 ],
 "metadata": {
  "kernelspec": {
   "display_name": "python_class",
   "language": "python",
   "name": "python3"
  },
  "language_info": {
   "codemirror_mode": {
    "name": "ipython",
    "version": 3
   },
   "file_extension": ".py",
   "mimetype": "text/x-python",
   "name": "python",
   "nbconvert_exporter": "python",
   "pygments_lexer": "ipython3",
   "version": "3.10.10"
  },
  "orig_nbformat": 4
 },
 "nbformat": 4,
 "nbformat_minor": 2
}

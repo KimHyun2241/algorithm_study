{
 "cells": [
  {
   "cell_type": "code",
   "execution_count": 6,
   "metadata": {},
   "outputs": [],
   "source": [
    "# 피보나치 수열(메모이제이션 이용)\n",
    "def fib_dp_mem(n):\n",
    "    if (mem[n] == None):    # 풀리지 않은 경우 -> 계산하고 저장\n",
    "        if n < 2:\n",
    "            mem[n] = n      # 기반 상황: n <= 1\n",
    "        else:               # 일반 상황: otherwise\n",
    "            mem[n] = fib_dp_mem(n-1) + fib_dp_mem(n-2)\n",
    "    return mem[n]"
   ]
  },
  {
   "cell_type": "code",
   "execution_count": 7,
   "metadata": {},
   "outputs": [],
   "source": [
    "# 피보나치 수열(테이블화 이용)\n",
    "def fib_dp_tab(n):\n",
    "    f = [None] * (n+1)\n",
    "    f[0] = 0\n",
    "    f[1] = 1\n",
    "    for i in range(2, n + 1):\n",
    "        f[i] = f[i-1] + f[i-2]\n",
    "    return f[n]"
   ]
  },
  {
   "cell_type": "code",
   "execution_count": 13,
   "metadata": {},
   "outputs": [
    {
     "name": "stdout",
     "output_type": "stream",
     "text": [
      "동적계획( 메모이제이션 ): Fibonacci(8) =  21\n",
      "동적계획( 테이블화 ): Fibonacci(8) =  21\n"
     ]
    }
   ],
   "source": [
    "n = 8\n",
    "print('동적계획( 메모이제이션 ): Fibonacci(%d) = '%n, fib_dp_mem(n))\n",
    "mem = [None] * (n+1)\n",
    "print('동적계획( 테이블화 ): Fibonacci(%d) = '%n, fib_dp_tab(n))"
   ]
  },
  {
   "cell_type": "code",
   "execution_count": 7,
   "metadata": {},
   "outputs": [
    {
     "name": "stdout",
     "output_type": "stream",
     "text": [
      "[Divide and Conquer] C(6,3) = 20\n"
     ]
    }
   ],
   "source": [
    "# 이항계수 C(n, k) 계산 함수(분할 정복 기법)\n",
    "# 과제 : 메모이제이션 적용해보기\n",
    "def bino_coef_dc(n, k):\n",
    "    if (mem[n][k] == None):\n",
    "        # k == 0 or k == n 일 경우 이항 계수는 항상 1\n",
    "        if k == 0 or k == n:\n",
    "            mem[n][k] = 1\n",
    "        # 아닐 경우 이항 계수 정의\n",
    "        else:\n",
    "            mem[n][k] = bino_coef_dc(n-1, k-1) + bino_coef_dc(n-1, k)\n",
    "    return mem[n][k]\n",
    "\n",
    "n = 6\n",
    "k = 3\n",
    "# 2차원 배열로 None 값으로 초기화\n",
    "mem = [[None for _ in range(k+1)] for _ in range(n+1)]\n",
    "\n",
    "print(\"[Divide and Conquer] C(6,3) =\", bino_coef_dc(n, k))"
   ]
  },
  {
   "cell_type": "code",
   "execution_count": 11,
   "metadata": {},
   "outputs": [],
   "source": [
    "# 이항계수 C(n, k) 계산 함수(다이나믹 프로그래밍)\n",
    "def bino_coef_dp(n, k):\n",
    "    C = [[-1 for _ in range(k+1)] for _ in range(n+1)]\n",
    "\n",
    "    for i in range(n+1):                          # botton-up 방향으로 진행: i:0~n\n",
    "        for j in range(min(i, k) +1):             # j: 0~n\n",
    "            if j == 0 or j == i:                  # 정의에 의해 (base case)\n",
    "                C[i][j] = 1                       # C(n, 0) = C(n, n) = 1 -> 저장\n",
    "            else:                                 \n",
    "                C[i][j] = C[i-1][j-1] + C[i-1][j]\n",
    "    return C[n][k]                                "
   ]
  },
  {
   "cell_type": "code",
   "execution_count": 17,
   "metadata": {},
   "outputs": [
    {
     "name": "stdout",
     "output_type": "stream",
     "text": [
      "[Dynamic Programming] C(6,3) = 20\n"
     ]
    }
   ],
   "source": [
    "print(\"[Dynamic Programming] C(6,3) =\", bino_coef_dp(6, 3)) # 다이나믹 프로그래밍"
   ]
  },
  {
   "cell_type": "code",
   "execution_count": 18,
   "metadata": {},
   "outputs": [],
   "source": [
    "# 최장 공통 부분순서 (순환 구조)\n",
    "def lcs_recur(X, Y, m, n):                    # 순환 호출을 위해 길이 m, n이 필요\n",
    "    if m == 0 or n == 0:                      # 기반 상황에 대한 처리\n",
    "        return 0\n",
    "    elif X[m-1] == Y[n-1]:                    # case 1: x_m == y_n\n",
    "        return 1 + lcs_recur(X, Y, m-1, n-1)\n",
    "    else:                                     # case 2\n",
    "        return max(lcs_recur(X, Y, m, n-1), lcs_recur(X, Y, m-1, n))"
   ]
  },
  {
   "cell_type": "code",
   "execution_count": 21,
   "metadata": {},
   "outputs": [],
   "source": [
    "# 최장 공통 부분순서 (다이나믹 프로그래밍)\n",
    "def lcs_dp(X, Y):\n",
    "    m = len(X)\n",
    "    n = len(Y)\n",
    "    L = [[None]*(n+1) for _ in range(m+1)]  # 테이블 생성\n",
    "\n",
    "    for i in range(m+1):\n",
    "        for j in range(n+1):\n",
    "            if i == 0 or j == 0:\n",
    "                L[i][j] = 0\n",
    "            elif X[i-1] == Y[j-1]:\n",
    "                L[i][j] = L[i-1][j-1]+1\n",
    "            else:\n",
    "                L[i][j] = max(L[i-1][j], L[i][j-1])\n",
    "    return L[m][n]"
   ]
  },
  {
   "cell_type": "code",
   "execution_count": 22,
   "metadata": {},
   "outputs": [
    {
     "name": "stdout",
     "output_type": "stream",
     "text": [
      "X = GAME OVER\n",
      "Y = HELLO WORLD\n",
      "LCS(분할 정복) 4\n",
      "4\n",
      "LCS(동적 계획) 4\n"
     ]
    }
   ],
   "source": [
    "X = \"GAME OVER\"\n",
    "Y = \"HELLO WORLD\"\n",
    "print(\"X =\", X)\n",
    "print(\"Y =\", Y)\n",
    "print(\"LCS(분할 정복)\", lcs_recur(X, Y, len(X), len(Y)))\n",
    "print(\"LCS(동적 계획)\", lcs_dp(X, Y))"
   ]
  },
  {
   "cell_type": "code",
   "execution_count": 10,
   "metadata": {},
   "outputs": [
    {
     "name": "stdout",
     "output_type": "stream",
     "text": [
      "Shortest Path By Floyd's Algorithm\n",
      "==================================\n",
      "['--', 'A', 'B', 'C', 'E', 'F', 'G']\n",
      "   0    7  INF INF   3   10  INF\n",
      "   7    0    4   10    2    6  INF\n",
      " INF   4    0    2  INF INF INF\n",
      " INF  10    2    0   11    9    4 \n",
      "   3    2  INF  11    0   13    5 \n",
      "  10    6  INF   9   13    0  INF\n",
      " INF INF INF   4    5  INF   0 \n",
      "==================================\n",
      "['--', 'A', 'B', 'C', 'E', 'F', 'G']\n",
      "   0    7   11   17    3   10  INF\n",
      "   7    0    4   10    2    6  INF\n",
      "  11    4    0    2    6   10  INF\n",
      "  17   10    2    0   11    9    4 \n",
      "   3    2    6   11    0    8    5 \n",
      "  10    6   10    9    8    0  INF\n",
      " INF INF INF   4    5  INF   0 \n",
      "==================================\n",
      "['--', 'A', 'B', 'C', 'E', 'F', 'G']\n",
      "   0    7   11   13    3   10  INF\n",
      "   7    0    4    6    2    6  INF\n",
      "  11    4    0    2    6   10  INF\n",
      "  13    6    2    0    8    9    4 \n",
      "   3    2    6    8    0    8    5 \n",
      "  10    6   10    9    8    0  INF\n",
      " INF INF INF   4    5  INF   0 \n",
      "==================================\n",
      "['--', 'A', 'B', 'C', 'E', 'F', 'G']\n",
      "   0    7   11   13    3   10   17 \n",
      "   7    0    4    6    2    6   10 \n",
      "  11    4    0    2    6   10    6 \n",
      "  13    6    2    0    8    9    4 \n",
      "   3    2    6    8    0    8    5 \n",
      "  10    6   10    9    8    0   13 \n",
      "  17   10    6    4    5   13    0 \n",
      "==================================\n",
      "['--', 'A', 'B', 'C', 'E', 'F', 'G']\n",
      "   0    5    9   11    3   10    8 \n",
      "   5    0    4    6    2    6    7 \n",
      "   9    4    0    2    6   10    6 \n",
      "  11    6    2    0    8    9    4 \n",
      "   3    2    6    8    0    8    5 \n",
      "  10    6   10    9    8    0   13 \n",
      "   8    7    6    4    5   13    0 \n",
      "==================================\n",
      "['--', 'A', 'B', 'C', 'E', 'F', 'G']\n",
      "   0    5    9   11    3   10    8 \n",
      "   5    0    4    6    2    6    7 \n",
      "   9    4    0    2    6   10    6 \n",
      "  11    6    2    0    8    9    4 \n",
      "   3    2    6    8    0    8    5 \n",
      "  10    6   10    9    8    0   13 \n",
      "   8    7    6    4    5   13    0 \n",
      "==================================\n",
      "['--', 'A', 'B', 'C', 'E', 'F', 'G']\n",
      "   0    5    9   11    3   10    8 \n",
      "   5    0    4    6    2    6    7 \n",
      "   9    4    0    2    6   10    6 \n",
      "  11    6    2    0    8    9    4 \n",
      "   3    2    6    8    0    8    5 \n",
      "  10    6   10    9    8    0   13 \n",
      "   8    7    6    4    5   13    0 \n"
     ]
    }
   ],
   "source": [
    "# Floyd의 최단 경로 탐색 알고리즘\n",
    "import copy\n",
    "def shortest_path_floyd(vertex, W):\n",
    "    vsize = len(vertex)\n",
    "    D = copy.deepcopy(W)\n",
    "    for k in range(vsize):\n",
    "        for i in range(vsize):\n",
    "            for j in range(vsize):\n",
    "                if (D[i][k] + D[k][j] < D[i][j]):\n",
    "                    D[i][j] = D[i][k] + D[k][j]\n",
    "        printD(D)\n",
    "\n",
    "def printD(D):\n",
    "    vsize = len(D)\n",
    "    print(\"==================================\")\n",
    "    print(vertex)\n",
    "    for i in range(vsize):\n",
    "        for j in range(vsize):\n",
    "            if (D[i][j] == INF) : print(\" INF\", end=\"\")\n",
    "            else: print(\"%4d \"%D[i][j], end=\"\")\n",
    "        print(\"\")\n",
    "INF = 9999\n",
    "vertex = ['--', 'A', 'B', 'C', 'E', 'F', 'G']\n",
    "weight = [[0, 7, INF, INF, 3, 10, INF],\n",
    "          [7, 0, 4, 10, 2, 6, INF],\n",
    "          [INF, 4, 0, 2, INF, INF, INF],\n",
    "          [INF, 10, 2, 0, 11, 9, 4],\n",
    "          [3, 2, INF, 11, 0, 13, 5],\n",
    "          [10, 6, INF, 9, 13, 0, INF],\n",
    "          [INF, INF, INF, 4, 5, INF, 0]]\n",
    "print(\"Shortest Path By Floyd's Algorithm\")\n",
    "shortest_path_floyd(vertex, weight)"
   ]
  },
  {
   "cell_type": "code",
   "execution_count": 11,
   "metadata": {},
   "outputs": [
    {
     "name": "stdout",
     "output_type": "stream",
     "text": [
      "Shortest Path By Floyd's Algorithm\n",
      "==================================\n",
      "Original Weight Matrix:\n",
      "      --     A     B     C     E     F     G\n",
      "--     0     7  9999  9999     3    10  9999\n",
      "A      7     0     4    10     2     6  9999\n",
      "B   9999     4     0     2  9999  9999  9999\n",
      "C   9999    10     2     0    11     9     4\n",
      "E      3     2  9999    11     0    13     5\n",
      "F     10     6  9999     9    13     0  9999\n",
      "G   9999  9999  9999     4     5  9999     0\n",
      "==================================\n",
      "Shortest Path Weight Matrix:\n",
      "    --  A   B   C  E   F   G\n",
      "--   0  5   9  11  3  10   8\n",
      "A    5  0   4   6  2   6   7\n",
      "B    9  4   0   2  6  10   6\n",
      "C   11  6   2   0  8   9   4\n",
      "E    3  2   6   8  0   8   5\n",
      "F   10  6  10   9  8   0  13\n",
      "G    8  7   6   4  5  13   0\n"
     ]
    },
    {
     "data": {
      "image/png": "[encoded data removed]",
      "text/plain": [
       "<Figure size 1200x600 with 4 Axes>"
      ]
     },
     "metadata": {},
     "output_type": "display_data"
    }
   ],
   "source": [
    "import copy\n",
    "import pandas as pd\n",
    "import matplotlib.pyplot as plt\n",
    "\n",
    "def shortest_path_floyd(vertex, W):\n",
    "    vsize = len(vertex)\n",
    "    D = copy.deepcopy(W)\n",
    "    \n",
    "    df = pd.DataFrame(W, columns=vertex, index=vertex)\n",
    "    print(\"==================================\")\n",
    "    print(\"Original Weight Matrix:\")\n",
    "    print(df)\n",
    "\n",
    "    for k in range(vsize):\n",
    "        for i in range(vsize):\n",
    "            for j in range(vsize):\n",
    "                if D[i][k] + D[k][j] < D[i][j]:\n",
    "                    D[i][j] = D[i][k] + D[k][j]\n",
    "\n",
    "    print(\"==================================\")\n",
    "    print(\"Shortest Path Weight Matrix:\")\n",
    "    print(pd.DataFrame(D, columns=vertex, index=vertex))\n",
    "\n",
    "    # Plotting the original and updated weight matrices\n",
    "    plt.figure(figsize=(12, 6))\n",
    "    \n",
    "    plt.subplot(1, 2, 1)\n",
    "    plt.title(\"Original Weight Matrix\")\n",
    "    plt.imshow(df, cmap='Blues', interpolation='nearest')\n",
    "    plt.xticks(range(vsize), vertex, rotation=45)\n",
    "    plt.yticks(range(vsize), vertex)\n",
    "    plt.colorbar()\n",
    "\n",
    "    plt.subplot(1, 2, 2)\n",
    "    plt.title(\"Shortest Path Weight Matrix\")\n",
    "    plt.imshow(pd.DataFrame(D, columns=vertex, index=vertex), cmap='Blues', interpolation='nearest')\n",
    "    plt.xticks(range(vsize), vertex, rotation=45)\n",
    "    plt.yticks(range(vsize), vertex)\n",
    "    plt.colorbar()\n",
    "\n",
    "    plt.tight_layout()\n",
    "    plt.show()\n",
    "\n",
    "INF = 9999\n",
    "vertex = ['--', 'A', 'B', 'C', 'E', 'F', 'G']\n",
    "weight = [[0, 7, INF, INF, 3, 10, INF],\n",
    "          [7, 0, 4, 10, 2, 6, INF],\n",
    "          [INF, 4, 0, 2, INF, INF, INF],\n",
    "          [INF, 10, 2, 0, 11, 9, 4],\n",
    "          [3, 2, INF, 11, 0, 13, 5],\n",
    "          [10, 6, INF, 9, 13, 0, INF],\n",
    "          [INF, INF, INF, 4, 5, INF, 0]]\n",
    "\n",
    "print(\"Shortest Path By Floyd's Algorithm\")\n",
    "shortest_path_floyd(vertex, weight)\n"
   ]
  },
  {
   "cell_type": "code",
   "execution_count": null,
   "metadata": {},
   "outputs": [],
   "source": []
  }
 ],
 "metadata": {
  "kernelspec": {
   "display_name": "language_analysis",
   "language": "python",
   "name": "python3"
  },
  "language_info": {
   "codemirror_mode": {
    "name": "ipython",
    "version": 3
   },
   "file_extension": ".py",
   "mimetype": "text/x-python",
   "name": "python",
   "nbconvert_exporter": "python",
   "pygments_lexer": "ipython3",
   "version": "3.10.10"
  }
 },
 "nbformat": 4,
 "nbformat_minor": 2
}

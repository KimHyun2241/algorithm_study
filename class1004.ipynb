{
 "cells": [
  {
   "cell_type": "code",
   "execution_count": 12,
   "metadata": {},
   "outputs": [],
   "source": [
    "def topolgical_sort(graph):\n",
    "    \n",
    "    # 딕셔너리 선언\n",
    "    inDeg = {}\n",
    "\n",
    "    # 입력 받은 graph를 0으로 초기화\n",
    "    for v in graph:\n",
    "        inDeg[v] = 0\n",
    "\n",
    "    \n",
    "    for v in graph:\n",
    "        for u in graph[v]:\n",
    "            inDeg[u] += 1\n",
    "\n",
    "    vlist = []\n",
    "    for v in graph:\n",
    "        if inDeg[v] == 0:\n",
    "            vlist.append(v)\n",
    "        \n",
    "    while vlist :\n",
    "        v = vlist.pop()\n",
    "        print(v, end = ' ')\n",
    "        for u in graph[v]:\n",
    "            inDeg[u] -= 1\n",
    "            if inDeg[u] == 0:\n",
    "                vlist.append(u)\n",
    "\n",
    "mygraph = {\"A\" : {\"C\", \"D\"},\n",
    "           \"B\" : {\"D\", \"E\"},\n",
    "           \"C\" : {\"D\", \"F\"},\n",
    "           \"D\" : {\"F\"},\n",
    "           \"E\" : {\"F\"},\n",
    "           \"F\" : {}\n",
    "           }\n",
    "\n",
    "print(\"topolgical_sort:\")\n",
    "topolgical_sort(mygraph)\n",
    "print()"
   ]
  },
  {
   "cell_type": "code",
   "execution_count": 13,
   "metadata": {},
   "outputs": [
    {
     "name": "stdout",
     "output_type": "stream",
     "text": [
      "topolgical_sort:\n",
      "B E A C D F \n"
     ]
    }
   ],
   "source": [
    "mygraph = {\"A\" : {\"C\", \"D\"},\n",
    "           \"B\" : {\"D\", \"E\"},\n",
    "           \"C\" : {\"D\", \"F\"},\n",
    "           \"D\" : {\"F\"},\n",
    "           \"E\" : {\"F\"},\n",
    "           \"F\" : {}\n",
    "           }\n",
    "\n",
    "print(\"topolgical_sort:\")\n",
    "topolgical_sort(mygraph)\n",
    "print()"
   ]
  },
  {
   "cell_type": "markdown",
   "metadata": {},
   "source": []
  },
  {
   "cell_type": "code",
   "execution_count": 9,
   "metadata": {},
   "outputs": [],
   "source": [
    "# 이진탐색 (순환구조)\n",
    "def binary_search(A, key, low, high):\n",
    "    if (low <= high):\n",
    "        mid = (low + high) // 2\n",
    "        if key == A[mid]:\n",
    "            return mid\n",
    "        elif key < A[mid]:\n",
    "            return binary_search(A, key, low, mid-1)\n",
    "        else:\n",
    "            return binary_search(A, key, mid+1, high)\n",
    "        \n",
    "    return -1"
   ]
  },
  {
   "cell_type": "code",
   "execution_count": 10,
   "metadata": {},
   "outputs": [],
   "source": [
    "def binary_search_iter(A, key, low, high):\n",
    "    while (low <= high):\n",
    "        mid = (low + high) // 2\n",
    "        if key == A[mid]:\n",
    "            return mid\n",
    "        elif key > A[mid]:\n",
    "            low = mid + 1\n",
    "        else:\n",
    "            high = mid -1\n",
    "    \n",
    "    return -1"
   ]
  },
  {
   "cell_type": "code",
   "execution_count": 11,
   "metadata": {},
   "outputs": [
    {
     "name": "stdout",
     "output_type": "stream",
     "text": [
      "입력 리스트 = [1, 3, 8, 13, 13, 16, 21, 26, 27, 30, 33, 36, 39, 41, 44, 49]\n",
      "33 탐색(순환) -> 10\n",
      "33 탐색(반복) -> 10\n",
      "32 탐색(순환) -> -1\n",
      "32 탐색(반복) -> -1\n"
     ]
    }
   ],
   "source": [
    "listA = [1, 3, 8, 13, 13, 16, 21, 26, 27, 30, 33, 36, 39, 41, 44, 49]\n",
    "print(\"입력 리스트 =\", listA)\n",
    "print(\"33 탐색(순환) ->\", binary_search(listA, 33, 0, len(listA)-1))\n",
    "print(\"33 탐색(반복) ->\", binary_search_iter(listA, 33, 0, len(listA)-1))\n",
    "print(\"32 탐색(순환) ->\", binary_search(listA, 32, 0, len(listA)-1))\n",
    "print(\"32 탐색(반복) ->\", binary_search_iter(listA, 32, 0, len(listA)-1))"
   ]
  },
  {
   "cell_type": "code",
   "execution_count": null,
   "metadata": {},
   "outputs": [],
   "source": []
  }
 ],
 "metadata": {
  "kernelspec": {
   "display_name": "python_class",
   "language": "python",
   "name": "python3"
  },
  "language_info": {
   "codemirror_mode": {
    "name": "ipython",
    "version": 3
   },
   "file_extension": ".py",
   "mimetype": "text/x-python",
   "name": "python",
   "nbconvert_exporter": "python",
   "pygments_lexer": "ipython3",
   "version": "3.10.10"
  },
  "orig_nbformat": 4
 },
 "nbformat": 4,
 "nbformat_minor": 2
}

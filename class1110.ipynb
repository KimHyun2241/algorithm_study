{
 "cells": [
  {
   "cell_type": "code",
   "execution_count": 1,
   "metadata": {},
   "outputs": [],
   "source": [
    "# 알고리즘 6.6 - 선형 조사법의 삽입 알고리즘\n",
    "\n",
    "# 테이블의 크기\n",
    "M = 13\n",
    "# 테이블 만들기: None으로 초기화\n",
    "table = [None]*M\n",
    "# 해시 함수\n",
    "def hashFn(key):\n",
    "    return key % M\n",
    "\n",
    "def lp_insert(key):\n",
    "    id = hashFn(key)\n",
    "    count = M\n",
    "    while count > 0 and (table[id] != None and table[id] != -1):\n",
    "        # 다음 위치로 이동\n",
    "        id = (id+1+M)%M\n",
    "        # 검사할 남은 위치의 수\n",
    "        count -= 1\n",
    "    if count > 0:\n",
    "        # 해당 슬롯에 항목 저장\n",
    "        table[id] = key\n",
    "    return"
   ]
  },
  {
   "cell_type": "code",
   "execution_count": 2,
   "metadata": {},
   "outputs": [],
   "source": [
    "# 선형 조사법의 탐색 알고리즘\n",
    "def lp_serarch(key):\n",
    "    id = hashFn(key)\n",
    "    count = M\n",
    "    while count > 0:\n",
    "        # 찾는 항목이 테이블에 없음\n",
    "        if table[id] == None:\n",
    "            return None\n",
    "        if table[id] != -1 and table[id] == key:\n",
    "            # 찾는 항목이 테이블에 있음\n",
    "            return table[id]\n",
    "        # 없으면 다음 위치 검사\n",
    "        id = (id+1+M) % M\n",
    "    return"
   ]
  },
  {
   "cell_type": "code",
   "execution_count": null,
   "metadata": {},
   "outputs": [],
   "source": [
    "# 선형 조사법의 삭제 알고리즘\n",
    "\n",
    "def lp_delete(key):\n",
    "    id = hashFn(key)\n",
    "    count = M\n",
    "    while count > 0:\n",
    "        if table[id] == None : return\n",
    "        if table[id] != -1 and table[id] == key:\n",
    "            table[id] = -1\n",
    "            return\n",
    "        id = (id+1+M)\n",
    "        count -= 1"
   ]
  }
 ],
 "metadata": {
  "kernelspec": {
   "display_name": "python_class",
   "language": "python",
   "name": "python3"
  },
  "language_info": {
   "codemirror_mode": {
    "name": "ipython",
    "version": 3
   },
   "file_extension": ".py",
   "mimetype": "text/x-python",
   "name": "python",
   "nbconvert_exporter": "python",
   "pygments_lexer": "ipython3",
   "version": "3.10.10"
  }
 },
 "nbformat": 4,
 "nbformat_minor": 2
}

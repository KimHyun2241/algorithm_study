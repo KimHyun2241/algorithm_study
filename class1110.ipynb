{
 "cells": [
  {
   "cell_type": "code",
   "execution_count": 26,
   "metadata": {},
   "outputs": [],
   "source": [
    "# 알고리즘 6.6 - 선형 조사법의 삽입 알고리즘\n",
    "\n",
    "# 테이블의 크기\n",
    "M = 13\n",
    "# 테이블 만들기: None으로 초기화\n",
    "table = [None]*M\n",
    "# 해시 함수\n",
    "def hashFn(key):\n",
    "    return key % M # 해시 함수는 킷값 % 테이블의 크기\n",
    "                   #         key = 45 % 테이블의 크기 13 = 6\n",
    "def lp_insert(key):\n",
    "    id = hashFn(key) # id = 6\n",
    "    count = M\n",
    "    while count > 0 and (table[id] != None and table[id] != -1):\n",
    "        # 다음 위치로 이동\n",
    "        id = (id + 1 + M) % M # (45 + 1 + 13) % 13 = 7\n",
    "        # 검사할 남은 위치의 수\n",
    "        count -= 1\n",
    "    if count > 0:\n",
    "        # 해당 슬롯에 항목 저장\n",
    "        table[id] = key\n",
    "    return"
   ]
  },
  {
   "cell_type": "code",
   "execution_count": 27,
   "metadata": {},
   "outputs": [],
   "source": [
    "# 선형 조사법의 탐색 알고리즘\n",
    "def lp_serarch(key):\n",
    "    id = hashFn(key)\n",
    "    count = M\n",
    "    while count > 0:\n",
    "        # 찾는 항목이 테이블에 없음\n",
    "        if table[id] == None:\n",
    "            return None\n",
    "        if table[id] != -1 and table[id] == key:\n",
    "            # 찾는 항목이 테이블에 있음\n",
    "            return table[id]\n",
    "        # 없으면 다음 위치 검사\n",
    "        id = (id + 1 + M) % M\n",
    "        count -= 1\n",
    "    return None"
   ]
  },
  {
   "cell_type": "code",
   "execution_count": 28,
   "metadata": {},
   "outputs": [],
   "source": [
    "# 선형 조사법의 삭제 알고리즘\n",
    "def lp_delete(key):\n",
    "    id = hashFn(key)\n",
    "    count = M\n",
    "    while count > 0:\n",
    "        if table[id] == None : return\n",
    "        if table[id] != -1 and table[id] == key:\n",
    "            # None으로 처리하지 않고 -1로 처리\n",
    "            # 이것은 사용되었다가 삭제된 버킷을 의미\n",
    "            table[id] = -1\n",
    "            return\n",
    "        id = (id+1+M)\n",
    "        count -= 1"
   ]
  },
  {
   "cell_type": "code",
   "execution_count": 29,
   "metadata": {},
   "outputs": [
    {
     "name": "stdout",
     "output_type": "stream",
     "text": [
      "   최초: [None, None, None, None, None, None, None, None, None, None, None, None, None]\n",
      "45 삽입: [None, None, None, None, None, None, 45, None, None, None, None, None, None]\n",
      "27 삽입: [None, 27, None, None, None, None, 45, None, None, None, None, None, None]\n",
      "88 삽입: [None, 27, None, None, None, None, 45, None, None, None, 88, None, None]\n",
      " 9 삽입: [None, 27, None, None, None, None, 45, None, None, 9, 88, None, None]\n",
      "71 삽입: [None, 27, None, None, None, None, 45, 71, None, 9, 88, None, None]\n",
      "60 삽입: [None, 27, None, None, None, None, 45, 71, 60, 9, 88, None, None]\n",
      "46 삽입: [None, 27, None, None, None, None, 45, 71, 60, 9, 88, 46, None]\n",
      "38 삽입: [None, 27, None, None, None, None, 45, 71, 60, 9, 88, 46, 38]\n",
      "24 삽입: [24, 27, None, None, None, None, 45, 71, 60, 9, 88, 46, 38]\n",
      "60 삽입: [24, 27, 60, None, None, None, 45, 71, 60, 9, 88, 46, 38]\n",
      "46 탐색: 46\n"
     ]
    }
   ],
   "source": [
    "print(\"   최초:\", table)\n",
    "lp_insert(45); print(\"45 삽입:\", table)\n",
    "lp_insert(27); print(\"27 삽입:\", table)\n",
    "lp_insert(88); print(\"88 삽입:\", table)\n",
    "lp_insert(9); print(\" 9 삽입:\", table)\n",
    "lp_insert(71); print(\"71 삽입:\", table)\n",
    "lp_insert(60); print(\"60 삽입:\", table)\n",
    "lp_insert(46); print(\"46 삽입:\", table)\n",
    "lp_insert(38); print(\"38 삽입:\", table)\n",
    "lp_insert(24); print(\"24 삽입:\", table)\n",
    "lp_delete(60); print(\"60 삭제:\", table)\n",
    "print(\"46 탐색:\", lp_serarch(46))"
   ]
  }
 ],
 "metadata": {
  "kernelspec": {
   "display_name": "python_class",
   "language": "python",
   "name": "python3"
  },
  "language_info": {
   "codemirror_mode": {
    "name": "ipython",
    "version": 3
   },
   "file_extension": ".py",
   "mimetype": "text/x-python",
   "name": "python",
   "nbconvert_exporter": "python",
   "pygments_lexer": "ipython3",
   "version": "3.11.1"
  }
 },
 "nbformat": 4,
 "nbformat_minor": 2
}

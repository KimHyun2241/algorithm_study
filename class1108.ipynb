{
 "cells": [
  {
   "cell_type": "code",
   "execution_count": 7,
   "metadata": {},
   "outputs": [],
   "source": [
    "from queue import Queue\n",
    "import random\n",
    "\n",
    "BUCKETS = 10\n",
    "DIGITS = 4\n",
    "data = []\n",
    "\n",
    "def radix_sort(A):\n",
    "    queues = []\n",
    "    for i in range(BUCKETS):\n",
    "        queues.append(Queue())\n",
    "\n",
    "    n = len(A)\n",
    "    factor = 1\n",
    "    for d in range(DIGITS):\n",
    "        for i in range(n):\n",
    "            queues[(A[i]//factor) % BUCKETS].put(A[i])\n",
    "        j = 0\n",
    "        for b in range(BUCKETS):\n",
    "            while not queues[b].empty():\n",
    "                A[j] = queues[b].get()\n",
    "                j += 1\n",
    "            factor *= BUCKETS\n",
    "            print(\"step\", d+1, A)"
   ]
  },
  {
   "cell_type": "code",
   "execution_count": 8,
   "metadata": {},
   "outputs": [
    {
     "name": "stdout",
     "output_type": "stream",
     "text": [
      "step 1 [4680, 6146, 3289, 1988, 1301, 4680, 3808, 2553, 4766, 6717]\n",
      "step 1 [4680, 1301, 3289, 1988, 1301, 4680, 3808, 2553, 4766, 6717]\n",
      "step 1 [4680, 1301, 3289, 1988, 1301, 4680, 3808, 2553, 4766, 6717]\n",
      "step 1 [4680, 1301, 2553, 1988, 1301, 4680, 3808, 2553, 4766, 6717]\n",
      "step 1 [4680, 1301, 2553, 2344, 1301, 4680, 3808, 2553, 4766, 6717]\n",
      "step 1 [4680, 1301, 2553, 2344, 1301, 4680, 3808, 2553, 4766, 6717]\n",
      "step 1 [4680, 1301, 2553, 2344, 6146, 4766, 3808, 2553, 4766, 6717]\n",
      "step 1 [4680, 1301, 2553, 2344, 6146, 4766, 6717, 2553, 4766, 6717]\n",
      "step 1 [4680, 1301, 2553, 2344, 6146, 4766, 6717, 1988, 3808, 6717]\n",
      "step 1 [4680, 1301, 2553, 2344, 6146, 4766, 6717, 1988, 3808, 3289]\n",
      "step 2 [4680, 1301, 2553, 2344, 6146, 4766, 6717, 1988, 3808, 3289]\n",
      "step 2 [4680, 1301, 2553, 2344, 6146, 4766, 6717, 1988, 3808, 3289]\n",
      "step 2 [4680, 1301, 2553, 2344, 6146, 4766, 6717, 1988, 3808, 3289]\n",
      "step 2 [4680, 1301, 2553, 2344, 6146, 4766, 6717, 1988, 3808, 3289]\n",
      "step 2 [4680, 1301, 2553, 2344, 6146, 4766, 6717, 1988, 3808, 3289]\n",
      "step 2 [4680, 1301, 2553, 2344, 6146, 4766, 6717, 1988, 3808, 3289]\n",
      "step 2 [4680, 1301, 2553, 2344, 6146, 4766, 6717, 1988, 3808, 3289]\n",
      "step 2 [4680, 1301, 2553, 2344, 6146, 4766, 6717, 1988, 3808, 3289]\n",
      "step 2 [4680, 1301, 2553, 2344, 6146, 4766, 6717, 1988, 3808, 3289]\n",
      "step 2 [4680, 1301, 2553, 2344, 6146, 4766, 6717, 1988, 3808, 3289]\n",
      "step 3 [4680, 1301, 2553, 2344, 6146, 4766, 6717, 1988, 3808, 3289]\n",
      "step 3 [4680, 1301, 2553, 2344, 6146, 4766, 6717, 1988, 3808, 3289]\n",
      "step 3 [4680, 1301, 2553, 2344, 6146, 4766, 6717, 1988, 3808, 3289]\n",
      "step 3 [4680, 1301, 2553, 2344, 6146, 4766, 6717, 1988, 3808, 3289]\n",
      "step 3 [4680, 1301, 2553, 2344, 6146, 4766, 6717, 1988, 3808, 3289]\n",
      "step 3 [4680, 1301, 2553, 2344, 6146, 4766, 6717, 1988, 3808, 3289]\n",
      "step 3 [4680, 1301, 2553, 2344, 6146, 4766, 6717, 1988, 3808, 3289]\n",
      "step 3 [4680, 1301, 2553, 2344, 6146, 4766, 6717, 1988, 3808, 3289]\n",
      "step 3 [4680, 1301, 2553, 2344, 6146, 4766, 6717, 1988, 3808, 3289]\n",
      "step 3 [4680, 1301, 2553, 2344, 6146, 4766, 6717, 1988, 3808, 3289]\n",
      "step 4 [4680, 1301, 2553, 2344, 6146, 4766, 6717, 1988, 3808, 3289]\n",
      "step 4 [4680, 1301, 2553, 2344, 6146, 4766, 6717, 1988, 3808, 3289]\n",
      "step 4 [4680, 1301, 2553, 2344, 6146, 4766, 6717, 1988, 3808, 3289]\n",
      "step 4 [4680, 1301, 2553, 2344, 6146, 4766, 6717, 1988, 3808, 3289]\n",
      "step 4 [4680, 1301, 2553, 2344, 6146, 4766, 6717, 1988, 3808, 3289]\n",
      "step 4 [4680, 1301, 2553, 2344, 6146, 4766, 6717, 1988, 3808, 3289]\n",
      "step 4 [4680, 1301, 2553, 2344, 6146, 4766, 6717, 1988, 3808, 3289]\n",
      "step 4 [4680, 1301, 2553, 2344, 6146, 4766, 6717, 1988, 3808, 3289]\n",
      "step 4 [4680, 1301, 2553, 2344, 6146, 4766, 6717, 1988, 3808, 3289]\n",
      "step 4 [4680, 1301, 2553, 2344, 6146, 4766, 6717, 1988, 3808, 3289]\n",
      "Radix:  [4680, 1301, 2553, 2344, 6146, 4766, 6717, 1988, 3808, 3289]\n"
     ]
    }
   ],
   "source": [
    "for i in range(10):\n",
    "    data.append(random.randint(1,9999))\n",
    "radix_sort(data)\n",
    "print(\"Radix: \", data)"
   ]
  },
  {
   "cell_type": "code",
   "execution_count": 9,
   "metadata": {},
   "outputs": [
    {
     "name": "stdout",
     "output_type": "stream",
     "text": [
      "Original:  [1, 4, 1, 2, 7, 5, 2]\n",
      "Counting : [1, 1, 2, 2, 4, 5, 7]\n"
     ]
    }
   ],
   "source": [
    "MAX_VAL = 10\n",
    "data = [1,4,1,2,7,5,2]\n",
    "\n",
    "def counting_sort(A):\n",
    "    output = [0] * len(A)\n",
    "    count = [0] * MAX_VAL\n",
    "\n",
    "    # 빈도를 카운트\n",
    "    for i in A:\n",
    "        count[i] += 1\n",
    "    \n",
    "    for i in range(MAX_VAL):\n",
    "        count[i] += count[i-1]\n",
    "    \n",
    "    for i in range(len(A)):\n",
    "        output[count[A[i]]-1] = A[i]\n",
    "        count[A[i]] -= 1\n",
    "\n",
    "    for i in range(len(A)):\n",
    "        A[i] = output[i]\n",
    "\n",
    "print(\"Original: \", data)\n",
    "counting_sort(data)\n",
    "print(\"Counting :\", data)"
   ]
  },
  {
   "cell_type": "code",
   "execution_count": null,
   "metadata": {},
   "outputs": [],
   "source": []
  },
  {
   "cell_type": "code",
   "execution_count": 10,
   "metadata": {},
   "outputs": [],
   "source": [
    "NO_OF_CHARS = 128\n",
    "\n",
    "def shift_table(pat):\n",
    "    m = len(pat)\n",
    "    tbl = [m]*NO_OF_CHARS\n",
    "\n",
    "    for i in range(m-1):\n",
    "        tbl[ord(pat[i])] = m-1-i\n",
    "\n",
    "    return tbl"
   ]
  },
  {
   "cell_type": "code",
   "execution_count": 14,
   "metadata": {},
   "outputs": [],
   "source": [
    "def search_horspool(T, P):\n",
    "    n, m = len(T), len(P)\n",
    "\n",
    "    t = shift_table(P)\n",
    "    i = m-1\n",
    "    while(i <= n-1):\n",
    "        k = 0\n",
    "        while k <= m-1 and P[m-1-k] == T[i-k]:\n",
    "            k += 1\n",
    "        if k == m:\n",
    "            return i-m+1\n",
    "        else:\n",
    "            i += t[ord(T[i])]\n",
    "    return -1"
   ]
  },
  {
   "cell_type": "code",
   "execution_count": 15,
   "metadata": {},
   "outputs": [
    {
     "name": "stdout",
     "output_type": "stream",
     "text": [
      "패턴의 위치 : 10\n"
     ]
    }
   ],
   "source": [
    "print(\"패턴의 위치 :\", search_horspool(\"APPLEMANGOBANANAGRAPE\", \"BANANA\"))"
   ]
  },
  {
   "cell_type": "code",
   "execution_count": null,
   "metadata": {},
   "outputs": [],
   "source": []
  }
 ],
 "metadata": {
  "kernelspec": {
   "display_name": "python_class",
   "language": "python",
   "name": "python3"
  },
  "language_info": {
   "codemirror_mode": {
    "name": "ipython",
    "version": 3
   },
   "file_extension": ".py",
   "mimetype": "text/x-python",
   "name": "python",
   "nbconvert_exporter": "python",
   "pygments_lexer": "ipython3",
   "version": "3.10.10"
  }
 },
 "nbformat": 4,
 "nbformat_minor": 2
}
